{
 "cells": [
  {
   "attachments": {},
   "cell_type": "markdown",
   "metadata": {},
   "source": [
    "# Exercise 2\n",
    "\n",
    "In this exercise, we will use PyTorch to build a U-Net to segment tumors in brain images.\n",
    "\n",
    "We have discussed brain tumors segmentation in lecture 2. You can review from the slides of lecture 2 (slides 66-72). For more general image segmentation, you can check this [link](https://towardsdatascience.com/efficient-image-segmentation-using-pytorch-part-1-89e8297a0923) for a quick tutorial.\n",
    "\n",
    "Please use this [link](https://drive.google.com/file/d/1xtmBoayrtbhmtOp1gfkcxgCSNzXMPpmu/view?usp=sharing) to download the dataset we use for this exercise session. After downloading, you should unzip it and then put the folder *dataset* to the same path as *Exercise_2.ipynb*. This dataset contains 3064 T1-weighted contrast-enhanced images with brain tumor. For a detailed information about the dataset please refer to this [site](https://figshare.com/articles/dataset/brain_tumor_dataset/1512427).\n",
    "\n",
    "There are four important files for this exercise:\n",
    "- dataset.py: We create dataset from our own data here.\n",
    "- model.py: We build the model U-Net using PyTorch here.\n",
    "- training.py: We define the training loop, test loop, and predict phase here.\n",
    "- utils.py: We define some other functions here.\n",
    "\n",
    "In this exercise, we will:\n",
    "- Create our dataset in **dataset.py**.\n",
    "- Build the model in **model.py**.\n",
    "- Complete the training loop in **training.py**.\n",
    "\n",
    "The goal is to help you become more familiar with the following:\n",
    "- How to create your dataset by inheriting the *Dataset* class from pytorch.\n",
    "- How to build a network using *torch.nn*.\n",
    "- How to create an optimizer using *torch.optim*.\n",
    "\n",
    "Reference:\n",
    "\n",
    "- https://github.com/sdsubhajitdas/Brain-Tumor-Segmentation\n",
    "- https://www.analyticsvidhya.com/blog/2022/10/image-segmentation-with-u-net/"
   ]
  },
  {
   "attachments": {},
   "cell_type": "markdown",
   "metadata": {},
   "source": [
    "## 0. Initialization"
   ]
  },
  {
   "cell_type": "markdown",
   "metadata": {},
   "source": [
    "We import the package and define the device here. Change the DATASET_PATH to the path to your data."
   ]
  },
  {
   "cell_type": "code",
   "execution_count": null,
   "metadata": {},
   "outputs": [],
   "source": [
    "import os\n",
    "\n",
    "import torch\n",
    "from torch.utils.data import SubsetRandomSampler\n",
    "\n",
    "import numpy as np\n",
    "%matplotlib inline\n",
    "\n",
    "import dataset\n",
    "import model\n",
    "import training\n",
    "import utils\n",
    "\n",
    "device = torch.device('cuda:0' if torch.cuda.is_available() else 'cpu')\n",
    "\n",
    "# Dataset part used for testing\n",
    "TEST_SPLIT = 0.2\n",
    "# Batch size for training. Limited by GPU memory\n",
    "BATCH_SIZE = 6\n",
    "# Dataset folder used\n",
    "DATASET_USED = 'png_dataset'\n",
    "# Full Dataset path\n",
    "DATASET_PATH = os.path.join('dataset',DATASET_USED)\n",
    "# Training Epochs\n",
    "EPOCHS = 20\n",
    "# Filters used in UNet Model\n",
    "filter_num = [16,32,64,128,256]\n",
    "\n",
    "MODEL_NAME = f\"UNet-{filter_num}.pt\""
   ]
  },
  {
   "attachments": {},
   "cell_type": "markdown",
   "metadata": {},
   "source": [
    "## 1. Dataset and Dataloader\n",
    "\n",
    "Let's build a dataset from our own data! Here, you can try how to create your dataset by inheriting the *Dataset* class from pytorch.\n",
    "\n",
    "Please open **dataset.py** to check what to implement. The three ToDo are ordered as ToDo 1, ToDo 2, ... Please check them and make sure you do not miss anything."
   ]
  },
  {
   "cell_type": "code",
   "execution_count": null,
   "metadata": {},
   "outputs": [],
   "source": [
    "tumor_dataset = dataset.TumorDataset(DATASET_PATH)\n",
    "\n",
    "train_indices, test_indices = utils.get_indices(len(tumor_dataset), DATASET_USED, TEST_SPLIT)\n",
    "train_sampler, test_sampler = SubsetRandomSampler(train_indices), SubsetRandomSampler(test_indices)\n",
    "\n",
    "trainloader = torch.utils.data.DataLoader(tumor_dataset, BATCH_SIZE, sampler=train_sampler)\n",
    "testloader = torch.utils.data.DataLoader(tumor_dataset, 1, sampler=test_sampler)"
   ]
  },
  {
   "attachments": {},
   "cell_type": "markdown",
   "metadata": {},
   "source": [
    "## 2. Model\n",
    "\n",
    "U-Net is a network structure always used in biomedical image segmentation. In this section, you will try to build an U-Net with torch.nn.\n",
    "\n",
    "Here, we explain the structure of the U-Net. An example structure is shown in the following figure. (We use this figure only to show a general structure, and the details can be changed flexibly. For example, the number of blocks, the number of convolution layers in each block, and the size of each convolution layer.)\n",
    "\n",
    "<img src=\"u-net-architecture.png\" width=\"800\" height=\"550\">\n",
    "\n",
    "There are three parts in the U-net: \n",
    "- **Encoder**: Each encoder block contains two convolutional layers and one max-pooling layer. (In the Figure, two *conv 3x3, ReLU* and one *max pool 2x2*.)\n",
    "- **Bottleneck**: There is only one bottleneck block, containing two convolutional layers. (In the Figure, two *conv 3x3, ReLU*.)\n",
    "- **Decoder**: The decoder is more complicated. Each decoder block takes the output of the previous decoder block as a part of the input. Importantly, it also takes the output of a corresponding encoder block as a part of the input (the *copy and crop* part in the figure), which is named a skip connection. Each decoder block contains an upsample convolution layer, a skip connection part, and two convolutional layers. (In the Figure, one *up-conv 2x2*, one *copy and crop*, and two *conv 3x3, ReLU*)\n",
    "\n",
    "You can check this [link](https://www.analyticsvidhya.com/blog/2022/10/image-segmentation-with-u-net/) for more details.\n",
    "\n",
    "Let's build a U-Net using PyTorch in file **model.py**. We provide pseudo code in model.py. Again, the eight ToDo are ordered as ToDo 1, ToDo 2, ... Please check them and make sure you do not miss anything."
   ]
  },
  {
   "cell_type": "code",
   "execution_count": null,
   "metadata": {},
   "outputs": [],
   "source": [
    "unet_model = model.UNet(filter_num).to(device)"
   ]
  },
  {
   "attachments": {},
   "cell_type": "markdown",
   "metadata": {},
   "source": [
    "## 3. Model Training and Testing"
   ]
  },
  {
   "cell_type": "markdown",
   "metadata": {},
   "source": [
    "### 3.1. Training\n",
    "\n",
    "To train the model, we need to define the training loop. We need to complete the 'train' and 'train_step' function in file **training.py**. Again, the seven ToDo are ordered as ToDo 1, ToDo 2, ... Please check them and make sure you do not miss anything."
   ]
  },
  {
   "cell_type": "code",
   "execution_count": null,
   "metadata": {},
   "outputs": [],
   "source": [
    "# Training\n",
    "unet_trainer = training.Trainer(unet_model,device)\n",
    "\n",
    "loss_record = unet_trainer.train(EPOCHS,trainloader,mini_batch=100)\n",
    "\n",
    "print(f'Training finished!')"
   ]
  },
  {
   "cell_type": "markdown",
   "metadata": {},
   "source": [
    "### 3.2. Testing\n",
    "\n",
    "We test our model here. We use Dice Score for testing. We provide the code of testing. \n",
    "\n",
    "To know more about Dice Score, check this link: https://en.wikipedia.org/wiki/S%C3%B8rensen%E2%80%93Dice_coefficient"
   ]
  },
  {
   "cell_type": "code",
   "execution_count": null,
   "metadata": {},
   "outputs": [],
   "source": [
    "# Testing process on test data.\n",
    "unet_score = unet_trainer.test(testloader)\n",
    "\n",
    "print(f'Dice Score {unet_score}')"
   ]
  },
  {
   "attachments": {},
   "cell_type": "markdown",
   "metadata": {},
   "source": [
    "## 4. Visualize Test Dataset Predictions\n",
    "\n",
    "Now, you can visualize the prediction of your model! "
   ]
  },
  {
   "cell_type": "code",
   "execution_count": null,
   "metadata": {},
   "outputs": [],
   "source": [
    "image_index = test_indices[0]\n",
    "sample = tumor_dataset[image_index]\n",
    "image, mask, output, d_score = unet_trainer.predict(sample,0.65)\n",
    "title = f'Name: {image_index}.png   Dice Score: {d_score:.5f}'\n",
    "utils.result(image,mask,output,title,save_path=None)"
   ]
  }
 ],
 "metadata": {
  "kernelspec": {
   "display_name": "Python 3",
   "language": "python",
   "name": "python3"
  },
  "language_info": {
   "codemirror_mode": {
    "name": "ipython",
    "version": 3
   },
   "file_extension": ".py",
   "mimetype": "text/x-python",
   "name": "python",
   "nbconvert_exporter": "python",
   "pygments_lexer": "ipython3",
   "version": "3.9.17"
  }
 },
 "nbformat": 4,
 "nbformat_minor": 2
}
