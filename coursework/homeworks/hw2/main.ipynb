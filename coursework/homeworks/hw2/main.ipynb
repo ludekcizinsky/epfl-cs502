{
 "cells": [
  {
   "cell_type": "markdown",
   "metadata": {},
   "source": [
    "### Homework 2: Graph Neural Networks\n",
    "\n",
    "- Author: Ludek Cizinsky (`ludek.cizinsky@epfl.ch`)"
   ]
  },
  {
   "cell_type": "markdown",
   "metadata": {},
   "source": [
    "### Notebeook setup"
   ]
  },
  {
   "cell_type": "code",
   "execution_count": 18,
   "metadata": {},
   "outputs": [
    {
     "name": "stdout",
     "output_type": "stream",
     "text": [
      "The autoreload extension is already loaded. To reload it, use:\n",
      "  %reload_ext autoreload\n"
     ]
    }
   ],
   "source": [
    "%load_ext autoreload\n",
    "%autoreload 2"
   ]
  },
  {
   "cell_type": "code",
   "execution_count": 19,
   "metadata": {},
   "outputs": [],
   "source": [
    "# Hugging face util to download dataset\n",
    "from datasets import load_dataset\n",
    "\n",
    "# Scikit-learn\n",
    "from sklearn.model_selection import train_test_split\n",
    "\n",
    "# PyTorch\n",
    "import torch\n",
    "from torch import nn\n",
    "# - Dataloader\n",
    "from torch.utils.data import Dataset, DataLoader\n",
    "# - Optimization\n",
    "from torch.optim import Adam, SGD\n",
    "# - Loss\n",
    "from torch.nn import BCELoss, BCEWithLogitsLoss\n",
    "\n",
    "# Custom scripts\n",
    "from scripts.dataset import GraphDataset\n",
    "from scripts.layers import (\n",
    "    # Normal\n",
    "    GraphConv,\n",
    "    # Graph Sage\n",
    "    GraphSAGEConv,\n",
    "    MeanAggregation,\n",
    "    SumAggregation,\n",
    "    SqrtDegAggregation,\n",
    "    MaxPoolAggregation,\n",
    "    # Graph Attention\n",
    "    GraphAttentionConv,\n",
    "    # Pooling\n",
    "    MeanPool,\n",
    "    MaxPool,\n",
    ")\n",
    "\n",
    "from scripts.architecture import (\n",
    "    GNN\n",
    ")\n",
    "\n",
    "from scripts.utils import (\n",
    "    train,\n",
    "    evaluate,\n",
    ")"
   ]
  },
  {
   "cell_type": "markdown",
   "metadata": {},
   "source": [
    "### Load the dataset\n",
    "\n",
    "Some important notes:\n",
    "\n",
    "- the dataset includes collection of chemical compounds represented as graphs (details are specified below), i.e., one sample is a graph and we have a corresponding ground truth label indicating whether the compound is mutagenic or not\n",
    "- On the lower level, each node has associated embedding (one hot encoding) indicating its type, same goes for the edges, **the dimensions of these embeddings are different**"
   ]
  },
  {
   "cell_type": "markdown",
   "metadata": {},
   "source": [
    "#### Download the dataset from Hugging Face (HF)"
   ]
  },
  {
   "cell_type": "code",
   "execution_count": 20,
   "metadata": {},
   "outputs": [],
   "source": [
    "dataset_hf = load_dataset(\"graphs-datasets/MUTAG\")['train']"
   ]
  },
  {
   "cell_type": "markdown",
   "metadata": {},
   "source": [
    "#### Train, validation and test split"
   ]
  },
  {
   "cell_type": "code",
   "execution_count": 21,
   "metadata": {},
   "outputs": [],
   "source": [
    "# Parse the dataset into X and y\n",
    "X, y = [], []\n",
    "for s in dataset_hf:\n",
    "    X.append(s)\n",
    "    y.extend(s['y'])\n",
    "\n",
    "# Split the dataset into train and test\n",
    "X_train, X_test, y_train, y_test = train_test_split(X, y, test_size=0.2, random_state=42)\n",
    "\n",
    "# Split the train dataset into train and validation\n",
    "X_train, X_val, y_train, y_val = train_test_split(X_train, y_train, test_size=0.2, random_state=42)"
   ]
  },
  {
   "cell_type": "markdown",
   "metadata": {},
   "source": [
    "#### Load it using custom dataloader"
   ]
  },
  {
   "cell_type": "code",
   "execution_count": 22,
   "metadata": {},
   "outputs": [],
   "source": [
    "# Define hyperparameters for the dataloader\n",
    "batch_size = 30\n",
    "shuffle = True\n",
    "\n",
    "# Define custom stacking behavior for the dataloader\n",
    "# def collate_fn(batch):\n",
    "#     return list(zip(*batch))\n",
    "\n",
    "# Define custom stacking behavior for the dataloader\n",
    "def collate_fn(batch):\n",
    "    inputs, labels = [], []\n",
    "    \n",
    "    for item in batch:\n",
    "        input_dict, label = item\n",
    "        inputs.append(input_dict)\n",
    "        labels.append(label)\n",
    "    \n",
    "    # Convert the list of labels to a 1D tensor\n",
    "    labels = torch.tensor(labels).view(-1).type(torch.FloatTensor)\n",
    "    \n",
    "    return inputs, labels\n",
    "\n",
    "# Define custom datasets\n",
    "train_dataset = GraphDataset(X_train, y_train)\n",
    "val_dataset = GraphDataset(X_val, y_val)\n",
    "test_dataset = GraphDataset(X_test, y_test)\n",
    "\n",
    "# Define custom dataloaders\n",
    "train_loader = DataLoader(\n",
    "    train_dataset,\n",
    "    batch_size=batch_size, \n",
    "    shuffle=shuffle,\n",
    "    collate_fn=collate_fn\n",
    ")\n",
    "\n",
    "val_loader = DataLoader(\n",
    "    val_dataset,\n",
    "    batch_size=batch_size, \n",
    "    shuffle=shuffle,\n",
    "    collate_fn=collate_fn\n",
    ")\n",
    "\n",
    "test_loader = DataLoader(\n",
    "    test_dataset,\n",
    "    batch_size=batch_size, \n",
    "    shuffle=shuffle,\n",
    "    collate_fn=collate_fn\n",
    ")"
   ]
  },
  {
   "cell_type": "markdown",
   "metadata": {},
   "source": [
    "### Implementation of different graph and convolution and pooling layers\n",
    "\n",
    "See the [layers.py file](scripts/layers.py) for the implementation details.\n",
    "\n",
    "TODOs:\n",
    "- [ ] Implement the attention conv"
   ]
  },
  {
   "cell_type": "markdown",
   "metadata": {},
   "source": [
    "### Custom Network Design with Node Features"
   ]
  },
  {
   "cell_type": "code",
   "execution_count": 33,
   "metadata": {},
   "outputs": [
    {
     "name": "stdout",
     "output_type": "stream",
     "text": [
      "torch.Size([64])\n"
     ]
    },
    {
     "ename": "RuntimeError",
     "evalue": "expand(torch.FloatTensor{[64, 1]}, size=[64]): the number of sizes provided (1) must be greater or equal to the number of dimensions in the tensor (2)",
     "output_type": "error",
     "traceback": [
      "\u001b[0;31m---------------------------------------------------------------------------\u001b[0m",
      "\u001b[0;31mRuntimeError\u001b[0m                              Traceback (most recent call last)",
      "\u001b[1;32m/Users/ludekcizinsky/Dev/personal/epfl-cs502/coursework/homeworks/hw2/main.ipynb Cell 14\u001b[0m line \u001b[0;36m3\n\u001b[1;32m     <a href='vscode-notebook-cell:/Users/ludekcizinsky/Dev/personal/epfl-cs502/coursework/homeworks/hw2/main.ipynb#X20sZmlsZQ%3D%3D?line=27'>28</a>\u001b[0m optimizer \u001b[39m=\u001b[39m SGD(model\u001b[39m.\u001b[39mparameters(), lr\u001b[39m=\u001b[39mlr)\n\u001b[1;32m     <a href='vscode-notebook-cell:/Users/ludekcizinsky/Dev/personal/epfl-cs502/coursework/homeworks/hw2/main.ipynb#X20sZmlsZQ%3D%3D?line=28'>29</a>\u001b[0m \u001b[39m# optimizer = Adam(model.parameters(), lr=lr)\u001b[39;00m\n\u001b[1;32m     <a href='vscode-notebook-cell:/Users/ludekcizinsky/Dev/personal/epfl-cs502/coursework/homeworks/hw2/main.ipynb#X20sZmlsZQ%3D%3D?line=29'>30</a>\u001b[0m \n\u001b[1;32m     <a href='vscode-notebook-cell:/Users/ludekcizinsky/Dev/personal/epfl-cs502/coursework/homeworks/hw2/main.ipynb#X20sZmlsZQ%3D%3D?line=30'>31</a>\u001b[0m \u001b[39m# Train the model\u001b[39;00m\n\u001b[0;32m---> <a href='vscode-notebook-cell:/Users/ludekcizinsky/Dev/personal/epfl-cs502/coursework/homeworks/hw2/main.ipynb#X20sZmlsZQ%3D%3D?line=31'>32</a>\u001b[0m train(model, train_loader, criterion, optimizer, num_epochs\u001b[39m=\u001b[39;49mepochs)\n\u001b[1;32m     <a href='vscode-notebook-cell:/Users/ludekcizinsky/Dev/personal/epfl-cs502/coursework/homeworks/hw2/main.ipynb#X20sZmlsZQ%3D%3D?line=33'>34</a>\u001b[0m \u001b[39m# Evaluate the model on validation dataset\u001b[39;00m\n\u001b[1;32m     <a href='vscode-notebook-cell:/Users/ludekcizinsky/Dev/personal/epfl-cs502/coursework/homeworks/hw2/main.ipynb#X20sZmlsZQ%3D%3D?line=34'>35</a>\u001b[0m evaluate(model, val_loader, criterion)\n",
      "File \u001b[0;32m~/Dev/personal/epfl-cs502/coursework/homeworks/hw2/scripts/utils.py:16\u001b[0m, in \u001b[0;36mtrain\u001b[0;34m(model, train_loader, criterion, optimizer, num_epochs)\u001b[0m\n\u001b[1;32m     14\u001b[0m \u001b[39mfor\u001b[39;00m inputs, labels \u001b[39min\u001b[39;00m train_loader: \n\u001b[1;32m     15\u001b[0m     optimizer\u001b[39m.\u001b[39mzero_grad()\n\u001b[0;32m---> 16\u001b[0m     outputs \u001b[39m=\u001b[39m model(inputs)\n\u001b[1;32m     17\u001b[0m     loss \u001b[39m=\u001b[39m criterion(outputs, labels)\n\u001b[1;32m     18\u001b[0m     loss\u001b[39m.\u001b[39mbackward()\n",
      "File \u001b[0;32m~/miniconda3/envs/cs502/lib/python3.9/site-packages/torch/nn/modules/module.py:1518\u001b[0m, in \u001b[0;36mModule._wrapped_call_impl\u001b[0;34m(self, *args, **kwargs)\u001b[0m\n\u001b[1;32m   1516\u001b[0m     \u001b[39mreturn\u001b[39;00m \u001b[39mself\u001b[39m\u001b[39m.\u001b[39m_compiled_call_impl(\u001b[39m*\u001b[39margs, \u001b[39m*\u001b[39m\u001b[39m*\u001b[39mkwargs)  \u001b[39m# type: ignore[misc]\u001b[39;00m\n\u001b[1;32m   1517\u001b[0m \u001b[39melse\u001b[39;00m:\n\u001b[0;32m-> 1518\u001b[0m     \u001b[39mreturn\u001b[39;00m \u001b[39mself\u001b[39;49m\u001b[39m.\u001b[39;49m_call_impl(\u001b[39m*\u001b[39;49margs, \u001b[39m*\u001b[39;49m\u001b[39m*\u001b[39;49mkwargs)\n",
      "File \u001b[0;32m~/miniconda3/envs/cs502/lib/python3.9/site-packages/torch/nn/modules/module.py:1527\u001b[0m, in \u001b[0;36mModule._call_impl\u001b[0;34m(self, *args, **kwargs)\u001b[0m\n\u001b[1;32m   1522\u001b[0m \u001b[39m# If we don't have any hooks, we want to skip the rest of the logic in\u001b[39;00m\n\u001b[1;32m   1523\u001b[0m \u001b[39m# this function, and just call forward.\u001b[39;00m\n\u001b[1;32m   1524\u001b[0m \u001b[39mif\u001b[39;00m \u001b[39mnot\u001b[39;00m (\u001b[39mself\u001b[39m\u001b[39m.\u001b[39m_backward_hooks \u001b[39mor\u001b[39;00m \u001b[39mself\u001b[39m\u001b[39m.\u001b[39m_backward_pre_hooks \u001b[39mor\u001b[39;00m \u001b[39mself\u001b[39m\u001b[39m.\u001b[39m_forward_hooks \u001b[39mor\u001b[39;00m \u001b[39mself\u001b[39m\u001b[39m.\u001b[39m_forward_pre_hooks\n\u001b[1;32m   1525\u001b[0m         \u001b[39mor\u001b[39;00m _global_backward_pre_hooks \u001b[39mor\u001b[39;00m _global_backward_hooks\n\u001b[1;32m   1526\u001b[0m         \u001b[39mor\u001b[39;00m _global_forward_hooks \u001b[39mor\u001b[39;00m _global_forward_pre_hooks):\n\u001b[0;32m-> 1527\u001b[0m     \u001b[39mreturn\u001b[39;00m forward_call(\u001b[39m*\u001b[39;49margs, \u001b[39m*\u001b[39;49m\u001b[39m*\u001b[39;49mkwargs)\n\u001b[1;32m   1529\u001b[0m \u001b[39mtry\u001b[39;00m:\n\u001b[1;32m   1530\u001b[0m     result \u001b[39m=\u001b[39m \u001b[39mNone\u001b[39;00m\n",
      "File \u001b[0;32m~/Dev/personal/epfl-cs502/coursework/homeworks/hw2/scripts/architecture.py:62\u001b[0m, in \u001b[0;36mGNN.forward\u001b[0;34m(self, graphs)\u001b[0m\n\u001b[1;32m     60\u001b[0m \u001b[39m# Run through the conv. layers to obtain embeddings of nodes\u001b[39;00m\n\u001b[1;32m     61\u001b[0m \u001b[39mfor\u001b[39;00m conv_layer, norm_layer \u001b[39min\u001b[39;00m \u001b[39mzip\u001b[39m(\u001b[39mself\u001b[39m\u001b[39m.\u001b[39mconvs, \u001b[39mself\u001b[39m\u001b[39m.\u001b[39mnorms):\n\u001b[0;32m---> 62\u001b[0m     x \u001b[39m=\u001b[39m conv_layer(x, adj)\n\u001b[1;32m     63\u001b[0m     \u001b[39m# x = norm_layer(x)\u001b[39;00m\n\u001b[1;32m     64\u001b[0m     x \u001b[39m=\u001b[39m F\u001b[39m.\u001b[39mdropout(x, p\u001b[39m=\u001b[39m\u001b[39mself\u001b[39m\u001b[39m.\u001b[39mdropout, training\u001b[39m=\u001b[39m\u001b[39mself\u001b[39m\u001b[39m.\u001b[39mtraining)\n",
      "File \u001b[0;32m~/miniconda3/envs/cs502/lib/python3.9/site-packages/torch/nn/modules/module.py:1518\u001b[0m, in \u001b[0;36mModule._wrapped_call_impl\u001b[0;34m(self, *args, **kwargs)\u001b[0m\n\u001b[1;32m   1516\u001b[0m     \u001b[39mreturn\u001b[39;00m \u001b[39mself\u001b[39m\u001b[39m.\u001b[39m_compiled_call_impl(\u001b[39m*\u001b[39margs, \u001b[39m*\u001b[39m\u001b[39m*\u001b[39mkwargs)  \u001b[39m# type: ignore[misc]\u001b[39;00m\n\u001b[1;32m   1517\u001b[0m \u001b[39melse\u001b[39;00m:\n\u001b[0;32m-> 1518\u001b[0m     \u001b[39mreturn\u001b[39;00m \u001b[39mself\u001b[39;49m\u001b[39m.\u001b[39;49m_call_impl(\u001b[39m*\u001b[39;49margs, \u001b[39m*\u001b[39;49m\u001b[39m*\u001b[39;49mkwargs)\n",
      "File \u001b[0;32m~/miniconda3/envs/cs502/lib/python3.9/site-packages/torch/nn/modules/module.py:1527\u001b[0m, in \u001b[0;36mModule._call_impl\u001b[0;34m(self, *args, **kwargs)\u001b[0m\n\u001b[1;32m   1522\u001b[0m \u001b[39m# If we don't have any hooks, we want to skip the rest of the logic in\u001b[39;00m\n\u001b[1;32m   1523\u001b[0m \u001b[39m# this function, and just call forward.\u001b[39;00m\n\u001b[1;32m   1524\u001b[0m \u001b[39mif\u001b[39;00m \u001b[39mnot\u001b[39;00m (\u001b[39mself\u001b[39m\u001b[39m.\u001b[39m_backward_hooks \u001b[39mor\u001b[39;00m \u001b[39mself\u001b[39m\u001b[39m.\u001b[39m_backward_pre_hooks \u001b[39mor\u001b[39;00m \u001b[39mself\u001b[39m\u001b[39m.\u001b[39m_forward_hooks \u001b[39mor\u001b[39;00m \u001b[39mself\u001b[39m\u001b[39m.\u001b[39m_forward_pre_hooks\n\u001b[1;32m   1525\u001b[0m         \u001b[39mor\u001b[39;00m _global_backward_pre_hooks \u001b[39mor\u001b[39;00m _global_backward_hooks\n\u001b[1;32m   1526\u001b[0m         \u001b[39mor\u001b[39;00m _global_forward_hooks \u001b[39mor\u001b[39;00m _global_forward_pre_hooks):\n\u001b[0;32m-> 1527\u001b[0m     \u001b[39mreturn\u001b[39;00m forward_call(\u001b[39m*\u001b[39;49margs, \u001b[39m*\u001b[39;49m\u001b[39m*\u001b[39;49mkwargs)\n\u001b[1;32m   1529\u001b[0m \u001b[39mtry\u001b[39;00m:\n\u001b[1;32m   1530\u001b[0m     result \u001b[39m=\u001b[39m \u001b[39mNone\u001b[39;00m\n",
      "File \u001b[0;32m~/Dev/personal/epfl-cs502/coursework/homeworks/hw2/scripts/layers.py:191\u001b[0m, in \u001b[0;36mforward\u001b[0;34m(self, X, adj)\u001b[0m\n\u001b[1;32m    135\u001b[0m         self.W = nn.Linear(in_features, out_features)\n\u001b[1;32m    136\u001b[0m         self.S = nn.Parameter(torch.randn(2*out_features))\n\u001b[1;32m    138\u001b[0m #    def forward(self, X, adj):\n\u001b[1;32m    139\u001b[0m         #\"\"\"\n\u001b[1;32m    140\u001b[0m         #Perform attention-based graph convolution operation.\n\u001b[1;32m    141\u001b[0m         #Args:\n\u001b[1;32m    142\u001b[0m             #X (Tensor): Input node features of shape (num_nodes, in_features).\n\u001b[1;32m    143\u001b[0m             #adj (Tensor): Adjacency matrix of the graph, shape (num_nodes, num_nodes).\n\u001b[1;32m    144\u001b[0m         #Returns:\n\u001b[1;32m    145\u001b[0m             #Tensor: Output node features after graph convolution, shape (num_nodes, out_features).\n\u001b[1;32m    146\u001b[0m         #\"\"\"\n\u001b[1;32m    147\u001b[0m \n\u001b[1;32m    148\u001b[0m         ## (1) Apply linear transformation\n\u001b[1;32m    149\u001b[0m         #X_prime = self.W(X)\n\u001b[1;32m    150\u001b[0m         #n_nodes, n_features = X_prime.shape\n\u001b[1;32m    151\u001b[0m \n\u001b[1;32m    152\u001b[0m         #X_result = torch.zeros(n_nodes, n_features)\n\u001b[1;32m    153\u001b[0m         #for i in range(n_nodes):\n\u001b[1;32m    154\u001b[0m             ## Get i-th node's neighbors\n\u001b[1;32m    155\u001b[0m             #neighbors = adj[i].nonzero().squeeze(1) # 1D binary tensor of neighbors\n\u001b[1;32m    156\u001b[0m \n\u001b[1;32m    157\u001b[0m             ## Add the self-loop\n\u001b[1;32m    158\u001b[0m             #neighbors = torch.cat([neighbors, torch.tensor([i])])\n\u001b[1;32m    159\u001b[0m \n\u001b[1;32m    160\u001b[0m             ## Get iths node's x_prime\n\u001b[1;32m    161\u001b[0m             #x_prime_i = X_prime[i]\n\u001b[1;32m    162\u001b[0m             #assert x_prime_i.shape == (n_features,), \"x_prime_i shape is not correct\"\n\u001b[1;32m    163\u001b[0m \n\u001b[1;32m    164\u001b[0m             ## Compute the attention weights with softmax\n\u001b[1;32m    165\u001b[0m             #raw_attention_scores = torch.zeros(len(neighbors))\n\u001b[1;32m    166\u001b[0m             #for i, nb in enumerate(neighbors):\n\u001b[1;32m    167\u001b[0m                 ## Get the neighbor's x_prime\n\u001b[1;32m    168\u001b[0m                 #x_prime_nb = X_prime[nb]\n\u001b[1;32m    169\u001b[0m                 #assert x_prime_nb.shape == (n_features,), \"x_prime_nb shape is not correct\"\n\u001b[1;32m    170\u001b[0m \n\u001b[1;32m    171\u001b[0m                 ## Concat the two primed vectors\n\u001b[1;32m    172\u001b[0m                 #x_prime_concat = torch.cat([x_prime_i, x_prime_nb])\n\u001b[1;32m    173\u001b[0m                 #assert x_prime_concat.shape == (2*n_features,), \"x_prime_concat shape is not correct\"\n\u001b[1;32m    174\u001b[0m \n\u001b[1;32m    175\u001b[0m                 ## Apply the vector S using dot product\n\u001b[1;32m    176\u001b[0m                 #e_i_nb = torch.dot(self.S, x_prime_concat)\n\u001b[1;32m    177\u001b[0m \n\u001b[1;32m    178\u001b[0m                 ## Save the raw attention score\n\u001b[1;32m    179\u001b[0m                 #raw_attention_scores[i] = e_i_nb\n\u001b[1;32m    180\u001b[0m             \n\u001b[1;32m    181\u001b[0m             ## Apply softmax to get the attention weights\n\u001b[1;32m    182\u001b[0m             #attention_scores = F.softmax(raw_attention_scores, dim=0)\n\u001b[1;32m    183\u001b[0m             #assert attention_scores.shape == (len(neighbors), ), \"attention_scores shape is not correct\"\n\u001b[1;32m    184\u001b[0m \n\u001b[1;32m    185\u001b[0m             ## Compute the weighted sum of the neighbors' x_prime\n\u001b[1;32m    186\u001b[0m             #for j, nb in enumerate(neighbors):\n\u001b[1;32m    187\u001b[0m                 #x_prime_nb = X_prime[nb]\n\u001b[1;32m    188\u001b[0m                 #X_result[i] += attention_scores[j] * x_prime_nb\n\u001b[1;32m    189\u001b[0m             \n\u001b[1;32m    190\u001b[0m             ## Finally, apply sigmoid\n\u001b[0;32m--> 191\u001b[0m             #X_result[i] = torch.sigmoid(X_result[i])\n\u001b[1;32m    192\u001b[0m         \n\u001b[1;32m    193\u001b[0m         #return X_result\n\u001b[1;32m    195\u001b[0m     def forward(self, X, adj):\n\u001b[1;32m    196\u001b[0m         # Apply linear transformation\n\u001b[1;32m    197\u001b[0m         X_prime = self.W(X)\n",
      "\u001b[0;31mRuntimeError\u001b[0m: expand(torch.FloatTensor{[64, 1]}, size=[64]): the number of sizes provided (1) must be greater or equal to the number of dimensions in the tensor (2)"
     ]
    }
   ],
   "source": [
    "# Define the model's architecture\n",
    "num_features = len(X_train[0]['node_feat'][0])\n",
    "activation = nn.LeakyReLU()\n",
    "pooling = MeanPool()\n",
    "aggregation = SumAggregation()\n",
    "dropout = 0.0\n",
    "# architecture = [\n",
    "    # [GraphSAGEConv, {'in_features': num_features, 'out_features': 256, 'aggregation': aggregation, 'activation': activation}],\n",
    "    # [GraphSAGEConv, {'in_features': 256, 'out_features': 128, 'aggregation': aggregation, 'activation': activation}],\n",
    "# ]\n",
    "# architecture = [\n",
    "    # [GraphConv, {'in_features': num_features, 'out_features': 64, 'activation': activation}],\n",
    "    # [GraphConv, {'in_features': 64, 'out_features': 32, 'activation': activation}],\n",
    "# ]\n",
    "\n",
    "architecture = [\n",
    "    [GraphAttentionConv, {'in_features': num_features, 'out_features': 64}],\n",
    "    [GraphAttentionConv, {'in_features': 64, 'out_features': 32}],\n",
    "]\n",
    "\n",
    "# Define the model\n",
    "model = GNN(architecture, pooling, dropout=dropout)\n",
    "\n",
    "# Define hyperparameters for the model\n",
    "lr = 8e-1\n",
    "epochs = 5\n",
    "criterion = BCEWithLogitsLoss(pos_weight=torch.tensor(0.7))\n",
    "optimizer = SGD(model.parameters(), lr=lr)\n",
    "# optimizer = Adam(model.parameters(), lr=lr)\n",
    "\n",
    "# Train the model\n",
    "train(model, train_loader, criterion, optimizer, num_epochs=epochs)\n",
    "\n",
    "# Evaluate the model on validation dataset\n",
    "evaluate(model, val_loader, criterion)"
   ]
  },
  {
   "cell_type": "code",
   "execution_count": null,
   "metadata": {},
   "outputs": [],
   "source": []
  }
 ],
 "metadata": {
  "kernelspec": {
   "display_name": "cs502",
   "language": "python",
   "name": "python3"
  },
  "language_info": {
   "codemirror_mode": {
    "name": "ipython",
    "version": 3
   },
   "file_extension": ".py",
   "mimetype": "text/x-python",
   "name": "python",
   "nbconvert_exporter": "python",
   "pygments_lexer": "ipython3",
   "version": "3.9.18"
  }
 },
 "nbformat": 4,
 "nbformat_minor": 2
}
