{
 "cells": [
  {
   "cell_type": "markdown",
   "metadata": {},
   "source": [
    "### Homework 2: Graph Neural Networks\n",
    "\n",
    "- Author: Ludek Cizinsky (`ludek.cizinsky@epfl.ch`)"
   ]
  },
  {
   "cell_type": "markdown",
   "metadata": {},
   "source": [
    "### Notebeook setup"
   ]
  },
  {
   "cell_type": "code",
   "execution_count": 18,
   "metadata": {},
   "outputs": [
    {
     "name": "stdout",
     "output_type": "stream",
     "text": [
      "The autoreload extension is already loaded. To reload it, use:\n",
      "  %reload_ext autoreload\n"
     ]
    }
   ],
   "source": [
    "%load_ext autoreload\n",
    "%autoreload 2"
   ]
  },
  {
   "cell_type": "code",
   "execution_count": 19,
   "metadata": {},
   "outputs": [],
   "source": [
    "# Hugging face util to download dataset\n",
    "from datasets import load_dataset\n",
    "\n",
    "# Scikit-learn\n",
    "from sklearn.model_selection import train_test_split\n",
    "\n",
    "# PyTorch\n",
    "import torch\n",
    "from torch import nn\n",
    "# - Dataloader\n",
    "from torch.utils.data import Dataset, DataLoader\n",
    "# - Optimization\n",
    "from torch.optim import Adam, SGD\n",
    "# - Loss\n",
    "from torch.nn import BCELoss, BCEWithLogitsLoss\n",
    "\n",
    "# Custom scripts\n",
    "from scripts.dataset import GraphDataset\n",
    "from scripts.layers import (\n",
    "    # Normal\n",
    "    GraphConv,\n",
    "    # Graph Sage\n",
    "    GraphSAGEConv,\n",
    "    MeanAggregation,\n",
    "    SumAggregation,\n",
    "    SqrtDegAggregation,\n",
    "    MaxPoolAggregation,\n",
    "    # Graph Attention\n",
    "    GraphAttentionConv,\n",
    "    # Pooling\n",
    "    MeanPool,\n",
    "    MaxPool,\n",
    ")\n",
    "\n",
    "from scripts.architecture import (\n",
    "    GNN\n",
    ")\n",
    "\n",
    "from scripts.utils import (\n",
    "    train,\n",
    "    evaluate,\n",
    ")"
   ]
  },
  {
   "cell_type": "markdown",
   "metadata": {},
   "source": [
    "### Load the dataset\n",
    "\n",
    "Some important notes:\n",
    "\n",
    "- the dataset includes collection of chemical compounds represented as graphs (details are specified below), i.e., one sample is a graph and we have a corresponding ground truth label indicating whether the compound is mutagenic or not\n",
    "- On the lower level, each node has associated embedding (one hot encoding) indicating its type, same goes for the edges, **the dimensions of these embeddings are different**"
   ]
  },
  {
   "cell_type": "markdown",
   "metadata": {},
   "source": [
    "#### Download the dataset from Hugging Face (HF)"
   ]
  },
  {
   "cell_type": "code",
   "execution_count": 20,
   "metadata": {},
   "outputs": [],
   "source": [
    "dataset_hf = load_dataset(\"graphs-datasets/MUTAG\")['train']"
   ]
  },
  {
   "cell_type": "markdown",
   "metadata": {},
   "source": [
    "#### Train, validation and test split"
   ]
  },
  {
   "cell_type": "code",
   "execution_count": 21,
   "metadata": {},
   "outputs": [],
   "source": [
    "# Parse the dataset into X and y\n",
    "X, y = [], []\n",
    "for s in dataset_hf:\n",
    "    X.append(s)\n",
    "    y.extend(s['y'])\n",
    "\n",
    "# Split the dataset into train and test\n",
    "X_train, X_test, y_train, y_test = train_test_split(X, y, test_size=0.2, random_state=42)\n",
    "\n",
    "# Split the train dataset into train and validation\n",
    "X_train, X_val, y_train, y_val = train_test_split(X_train, y_train, test_size=0.2, random_state=42)"
   ]
  },
  {
   "cell_type": "markdown",
   "metadata": {},
   "source": [
    "#### Load it using custom dataloader"
   ]
  },
  {
   "cell_type": "code",
   "execution_count": 22,
   "metadata": {},
   "outputs": [],
   "source": [
    "# Define hyperparameters for the dataloader\n",
    "batch_size = 30\n",
    "shuffle = True\n",
    "\n",
    "# Define custom stacking behavior for the dataloader\n",
    "# def collate_fn(batch):\n",
    "#     return list(zip(*batch))\n",
    "\n",
    "# Define custom stacking behavior for the dataloader\n",
    "def collate_fn(batch):\n",
    "    inputs, labels = [], []\n",
    "    \n",
    "    for item in batch:\n",
    "        input_dict, label = item\n",
    "        inputs.append(input_dict)\n",
    "        labels.append(label)\n",
    "    \n",
    "    # Convert the list of labels to a 1D tensor\n",
    "    labels = torch.tensor(labels).view(-1).type(torch.FloatTensor)\n",
    "    \n",
    "    return inputs, labels\n",
    "\n",
    "# Define custom datasets\n",
    "train_dataset = GraphDataset(X_train, y_train)\n",
    "val_dataset = GraphDataset(X_val, y_val)\n",
    "test_dataset = GraphDataset(X_test, y_test)\n",
    "\n",
    "# Define custom dataloaders\n",
    "train_loader = DataLoader(\n",
    "    train_dataset,\n",
    "    batch_size=batch_size, \n",
    "    shuffle=shuffle,\n",
    "    collate_fn=collate_fn\n",
    ")\n",
    "\n",
    "val_loader = DataLoader(\n",
    "    val_dataset,\n",
    "    batch_size=batch_size, \n",
    "    shuffle=shuffle,\n",
    "    collate_fn=collate_fn\n",
    ")\n",
    "\n",
    "test_loader = DataLoader(\n",
    "    test_dataset,\n",
    "    batch_size=batch_size, \n",
    "    shuffle=shuffle,\n",
    "    collate_fn=collate_fn\n",
    ")"
   ]
  },
  {
   "cell_type": "markdown",
   "metadata": {},
   "source": [
    "### Implementation of different graph and convolution and pooling layers\n",
    "\n",
    "See the [layers.py file](scripts/layers.py) for the implementation details.\n",
    "\n",
    "TODOs:\n",
    "- [ ] Implement the attention conv"
   ]
  },
  {
   "cell_type": "markdown",
   "metadata": {},
   "source": [
    "### Custom Network Design with Node Features"
   ]
  },
  {
   "cell_type": "code",
   "execution_count": 29,
   "metadata": {},
   "outputs": [
    {
     "name": "stdout",
     "output_type": "stream",
     "text": [
      "Epoch [1/5](3.11 s) Loss: 2.2065 F1(macro): 0.47%\n",
      "Epoch [2/5](3.06 s) Loss: 2.1349 F1(macro): 0.41%\n",
      "Epoch [3/5](3.58 s) Loss: 2.1071 F1(macro): 0.41%\n"
     ]
    }
   ],
   "source": [
    "# Define the model's architecture\n",
    "num_features = len(X_train[0]['node_feat'][0])\n",
    "activation = nn.LeakyReLU()\n",
    "pooling = MeanPool()\n",
    "aggregation = SumAggregation()\n",
    "dropout = 0.0\n",
    "# architecture = [\n",
    "    # [GraphSAGEConv, {'in_features': num_features, 'out_features': 256, 'aggregation': aggregation, 'activation': activation}],\n",
    "    # [GraphSAGEConv, {'in_features': 256, 'out_features': 128, 'aggregation': aggregation, 'activation': activation}],\n",
    "# ]\n",
    "# architecture = [\n",
    "    # [GraphConv, {'in_features': num_features, 'out_features': 64, 'activation': activation}],\n",
    "    # [GraphConv, {'in_features': 64, 'out_features': 32, 'activation': activation}],\n",
    "# ]\n",
    "\n",
    "architecture = [\n",
    "    [GraphAttentionConv, {'in_features': num_features, 'out_features': 64}],\n",
    "    [GraphAttentionConv, {'in_features': 64, 'out_features': 32}],\n",
    "]\n",
    "\n",
    "# Define the model\n",
    "model = GNN(architecture, pooling, dropout=dropout)\n",
    "\n",
    "# Define hyperparameters for the model\n",
    "lr = 8e-1\n",
    "epochs = 5\n",
    "criterion = BCEWithLogitsLoss(pos_weight=torch.tensor(0.7))\n",
    "optimizer = SGD(model.parameters(), lr=lr)\n",
    "# optimizer = Adam(model.parameters(), lr=lr)\n",
    "\n",
    "# Train the model\n",
    "train(model, train_loader, criterion, optimizer, num_epochs=epochs)\n",
    "\n",
    "# Evaluate the model on validation dataset\n",
    "evaluate(model, val_loader, criterion)"
   ]
  },
  {
   "cell_type": "code",
   "execution_count": null,
   "metadata": {},
   "outputs": [],
   "source": []
  }
 ],
 "metadata": {
  "kernelspec": {
   "display_name": "cs502",
   "language": "python",
   "name": "python3"
  },
  "language_info": {
   "codemirror_mode": {
    "name": "ipython",
    "version": 3
   },
   "file_extension": ".py",
   "mimetype": "text/x-python",
   "name": "python",
   "nbconvert_exporter": "python",
   "pygments_lexer": "ipython3",
   "version": "3.9.18"
  }
 },
 "nbformat": 4,
 "nbformat_minor": 2
}
