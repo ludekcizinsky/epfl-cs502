{
 "cells": [
  {
   "cell_type": "markdown",
   "metadata": {},
   "source": [
    "### Homework 2: Graph Neural Networks\n",
    "\n",
    "- Author: Ludek Cizinsky (`ludek.cizinsky@epfl.ch`)"
   ]
  },
  {
   "cell_type": "markdown",
   "metadata": {},
   "source": [
    "### Notebeook setup"
   ]
  },
  {
   "cell_type": "code",
   "execution_count": 1,
   "metadata": {},
   "outputs": [],
   "source": [
    "%load_ext autoreload\n",
    "%autoreload 2"
   ]
  },
  {
   "cell_type": "code",
   "execution_count": 2,
   "metadata": {},
   "outputs": [
    {
     "name": "stderr",
     "output_type": "stream",
     "text": [
      "/Users/ludekcizinsky/miniconda3/envs/cs502/lib/python3.9/site-packages/tqdm/auto.py:21: TqdmWarning: IProgress not found. Please update jupyter and ipywidgets. See https://ipywidgets.readthedocs.io/en/stable/user_install.html\n",
      "  from .autonotebook import tqdm as notebook_tqdm\n"
     ]
    }
   ],
   "source": [
    "# Hugging face util to download dataset\n",
    "from datasets import load_dataset\n",
    "\n",
    "# Scikit-learn\n",
    "from sklearn.model_selection import train_test_split\n",
    "\n",
    "# PyTorch\n",
    "import torch\n",
    "from torch import nn\n",
    "# - Dataloader\n",
    "from torch.utils.data import Dataset, DataLoader\n",
    "# - Optimization\n",
    "from torch.optim import Adam, SGD\n",
    "# - Loss\n",
    "from torch.nn import BCELoss, BCEWithLogitsLoss\n",
    "\n",
    "# Custom scripts\n",
    "from scripts.dataset import GraphDataset\n",
    "from scripts.layers import (\n",
    "    # Normal\n",
    "    GraphConv,\n",
    "    # Graph Sage\n",
    "    GraphSAGEConv,\n",
    "    MeanAggregation,\n",
    "    SumAggregation,\n",
    "    SqrtDegAggregation,\n",
    "    MaxPoolAggregation,\n",
    "    # Graph Attention\n",
    "    GraphAttentionConv,\n",
    "    # Pooling\n",
    "    MeanPool,\n",
    "    MaxPool,\n",
    ")\n",
    "\n",
    "from scripts.architecture import (\n",
    "    GNN\n",
    ")\n",
    "\n",
    "from scripts.utils import (\n",
    "    train,\n",
    "    evaluate,\n",
    ")"
   ]
  },
  {
   "cell_type": "markdown",
   "metadata": {},
   "source": [
    "### Load the dataset\n",
    "\n",
    "Some important notes:\n",
    "\n",
    "- the dataset includes collection of chemical compounds represented as graphs (details are specified below), i.e., one sample is a graph and we have a corresponding ground truth label indicating whether the compound is mutagenic or not\n",
    "- On the lower level, each node has associated embedding (one hot encoding) indicating its type, same goes for the edges, **the dimensions of these embeddings are different**"
   ]
  },
  {
   "cell_type": "markdown",
   "metadata": {},
   "source": [
    "#### Download the dataset from Hugging Face (HF)"
   ]
  },
  {
   "cell_type": "code",
   "execution_count": 3,
   "metadata": {},
   "outputs": [],
   "source": [
    "dataset_hf = load_dataset(\"graphs-datasets/MUTAG\")['train']"
   ]
  },
  {
   "cell_type": "markdown",
   "metadata": {},
   "source": [
    "#### Train, validation and test split"
   ]
  },
  {
   "cell_type": "code",
   "execution_count": 4,
   "metadata": {},
   "outputs": [],
   "source": [
    "# Parse the dataset into X and y\n",
    "X, y = [], []\n",
    "for s in dataset_hf:\n",
    "    X.append(s)\n",
    "    y.extend(s['y'])\n",
    "\n",
    "# Split the dataset into train and test\n",
    "X_train, X_test, y_train, y_test = train_test_split(X, y, test_size=0.2, random_state=42)\n",
    "\n",
    "# Split the train dataset into train and validation\n",
    "X_train, X_val, y_train, y_val = train_test_split(X_train, y_train, test_size=0.2, random_state=42)"
   ]
  },
  {
   "cell_type": "markdown",
   "metadata": {},
   "source": [
    "#### Load it using custom dataloader"
   ]
  },
  {
   "cell_type": "code",
   "execution_count": 5,
   "metadata": {},
   "outputs": [],
   "source": [
    "# Define hyperparameters for the dataloader\n",
    "batch_size = 30\n",
    "shuffle = True\n",
    "\n",
    "# Define custom stacking behavior for the dataloader\n",
    "# def collate_fn(batch):\n",
    "#     return list(zip(*batch))\n",
    "\n",
    "# Define custom stacking behavior for the dataloader\n",
    "def collate_fn(batch):\n",
    "    inputs, labels = [], []\n",
    "    \n",
    "    for item in batch:\n",
    "        input_dict, label = item\n",
    "        inputs.append(input_dict)\n",
    "        labels.append(label)\n",
    "    \n",
    "    # Convert the list of labels to a 1D tensor\n",
    "    labels = torch.tensor(labels).view(-1).type(torch.FloatTensor)\n",
    "    \n",
    "    return inputs, labels\n",
    "\n",
    "# Define custom datasets\n",
    "train_dataset = GraphDataset(X_train, y_train)\n",
    "val_dataset = GraphDataset(X_val, y_val)\n",
    "test_dataset = GraphDataset(X_test, y_test)\n",
    "\n",
    "# Define custom dataloaders\n",
    "train_loader = DataLoader(\n",
    "    train_dataset,\n",
    "    batch_size=batch_size, \n",
    "    shuffle=shuffle,\n",
    "    collate_fn=collate_fn\n",
    ")\n",
    "\n",
    "val_loader = DataLoader(\n",
    "    val_dataset,\n",
    "    batch_size=batch_size, \n",
    "    shuffle=shuffle,\n",
    "    collate_fn=collate_fn\n",
    ")\n",
    "\n",
    "test_loader = DataLoader(\n",
    "    test_dataset,\n",
    "    batch_size=batch_size, \n",
    "    shuffle=shuffle,\n",
    "    collate_fn=collate_fn\n",
    ")"
   ]
  },
  {
   "cell_type": "markdown",
   "metadata": {},
   "source": [
    "### Implementation of different graph and convolution and pooling layers\n",
    "\n",
    "See the [layers.py file](scripts/layers.py) for the implementation details.\n",
    "\n",
    "TODOs:\n",
    "- [ ] Implement the attention conv"
   ]
  },
  {
   "cell_type": "markdown",
   "metadata": {},
   "source": [
    "### Custom Network Design with Node Features"
   ]
  },
  {
   "cell_type": "code",
   "execution_count": 13,
   "metadata": {},
   "outputs": [
    {
     "name": "stdout",
     "output_type": "stream",
     "text": [
      "Epoch [1/100](1.37s) Loss: 11.1565 F1(macro): 0.53%\n",
      "Epoch [2/100](1.22s) Loss: 8.6351 F1(macro): 0.45%\n",
      "Epoch [3/100](1.28s) Loss: 6.1863 F1(macro): 0.49%\n",
      "Epoch [4/100](1.32s) Loss: 4.5414 F1(macro): 0.55%\n",
      "Epoch [5/100](1.24s) Loss: 4.9583 F1(macro): 0.49%\n",
      "Epoch [6/100](1.25s) Loss: 3.9032 F1(macro): 0.47%\n",
      "Epoch [7/100](1.25s) Loss: 2.5505 F1(macro): 0.53%\n",
      "Epoch [8/100](1.22s) Loss: 2.8496 F1(macro): 0.43%\n",
      "Epoch [9/100](1.26s) Loss: 2.2104 F1(macro): 0.55%\n",
      "Epoch [10/100](1.22s) Loss: 2.6149 F1(macro): 0.43%\n",
      "Epoch [11/100](1.2s) Loss: 2.3611 F1(macro): 0.55%\n",
      "Epoch [12/100](1.43s) Loss: 2.3070 F1(macro): 0.48%\n",
      "Epoch [13/100](1.25s) Loss: 2.2659 F1(macro): 0.41%\n",
      "Epoch [14/100](1.35s) Loss: 2.7244 F1(macro): 0.38%\n",
      "Epoch [15/100](1.24s) Loss: 2.3376 F1(macro): 0.47%\n",
      "Epoch [16/100](1.22s) Loss: 2.1587 F1(macro): 0.43%\n",
      "Epoch [17/100](1.25s) Loss: 2.4640 F1(macro): 0.43%\n",
      "Epoch [18/100](1.42s) Loss: 2.3927 F1(macro): 0.50%\n",
      "Epoch [19/100](1.19s) Loss: 2.4790 F1(macro): 0.45%\n",
      "Epoch [20/100](1.22s) Loss: 2.3986 F1(macro): 0.51%\n",
      "Epoch [21/100](1.2s) Loss: 2.5587 F1(macro): 0.45%\n",
      "Epoch [22/100](1.22s) Loss: 2.6979 F1(macro): 0.50%\n",
      "Epoch [23/100](1.19s) Loss: 3.0588 F1(macro): 0.43%\n",
      "Epoch [24/100](1.21s) Loss: 2.6380 F1(macro): 0.45%\n",
      "Epoch [25/100](1.26s) Loss: 2.4666 F1(macro): 0.41%\n",
      "Epoch [26/100](1.18s) Loss: 2.5674 F1(macro): 0.45%\n",
      "Epoch [27/100](1.19s) Loss: 2.4047 F1(macro): 0.47%\n",
      "Epoch [28/100](1.16s) Loss: 2.5437 F1(macro): 0.48%\n",
      "Epoch [29/100](1.19s) Loss: 2.4804 F1(macro): 0.49%\n",
      "Epoch [30/100](1.16s) Loss: 2.6130 F1(macro): 0.51%\n",
      "Epoch [31/100](1.18s) Loss: 2.7532 F1(macro): 0.45%\n",
      "Epoch [32/100](1.33s) Loss: 4.5486 F1(macro): 0.41%\n",
      "Epoch [33/100](1.22s) Loss: 3.0631 F1(macro): 0.45%\n",
      "Epoch [34/100](1.15s) Loss: 3.5877 F1(macro): 0.42%\n",
      "Epoch [35/100](1.14s) Loss: 3.5369 F1(macro): 0.57%\n",
      "Epoch [36/100](1.16s) Loss: 3.2858 F1(macro): 0.55%\n",
      "Epoch [37/100](1.18s) Loss: 3.7666 F1(macro): 0.48%\n",
      "Epoch [38/100](1.2s) Loss: 2.9419 F1(macro): 0.41%\n",
      "Epoch [39/100](1.19s) Loss: 4.2438 F1(macro): 0.43%\n",
      "Epoch [40/100](1.18s) Loss: 3.1708 F1(macro): 0.48%\n",
      "Epoch [41/100](1.19s) Loss: 3.0173 F1(macro): 0.43%\n",
      "Epoch [42/100](1.25s) Loss: 2.6491 F1(macro): 0.47%\n",
      "Epoch [43/100](1.21s) Loss: 2.1677 F1(macro): 0.54%\n",
      "Epoch [44/100](1.17s) Loss: 2.4022 F1(macro): 0.53%\n",
      "Epoch [45/100](1.24s) Loss: 2.6140 F1(macro): 0.51%\n",
      "Epoch [46/100](1.16s) Loss: 2.2825 F1(macro): 0.48%\n",
      "Epoch [47/100](1.13s) Loss: 2.2460 F1(macro): 0.47%\n",
      "Epoch [48/100](1.15s) Loss: 2.4619 F1(macro): 0.51%\n",
      "Epoch [49/100](1.15s) Loss: 2.4946 F1(macro): 0.48%\n",
      "Epoch [50/100](1.19s) Loss: 2.5390 F1(macro): 0.52%\n",
      "Epoch [51/100](1.16s) Loss: 2.7157 F1(macro): 0.43%\n",
      "Epoch [52/100](1.15s) Loss: 2.2452 F1(macro): 0.54%\n",
      "Epoch [53/100](1.15s) Loss: 2.2085 F1(macro): 0.57%\n",
      "Epoch [54/100](1.15s) Loss: 2.2970 F1(macro): 0.45%\n",
      "Epoch [55/100](1.16s) Loss: 2.4824 F1(macro): 0.43%\n",
      "Epoch [56/100](1.19s) Loss: 2.7070 F1(macro): 0.48%\n",
      "Epoch [57/100](1.19s) Loss: 2.5149 F1(macro): 0.49%\n",
      "Epoch [58/100](1.18s) Loss: 2.3844 F1(macro): 0.49%\n",
      "Epoch [59/100](1.29s) Loss: 2.3205 F1(macro): 0.41%\n",
      "Epoch [60/100](1.17s) Loss: 2.5728 F1(macro): 0.55%\n",
      "Epoch [61/100](1.15s) Loss: 2.7131 F1(macro): 0.49%\n",
      "Epoch [62/100](1.15s) Loss: 2.4573 F1(macro): 0.44%\n",
      "Epoch [63/100](1.17s) Loss: 2.1176 F1(macro): 0.41%\n",
      "Epoch [64/100](1.16s) Loss: 2.7043 F1(macro): 0.50%\n",
      "Epoch [65/100](1.16s) Loss: 2.4055 F1(macro): 0.53%\n",
      "Epoch [66/100](1.19s) Loss: 2.9979 F1(macro): 0.45%\n",
      "Epoch [67/100](1.18s) Loss: 2.4903 F1(macro): 0.48%\n",
      "Epoch [68/100](1.19s) Loss: 2.9281 F1(macro): 0.40%\n",
      "Epoch [69/100](1.15s) Loss: 2.5186 F1(macro): 0.47%\n",
      "Epoch [70/100](1.15s) Loss: 2.3364 F1(macro): 0.47%\n",
      "Epoch [71/100](1.14s) Loss: 2.7167 F1(macro): 0.53%\n",
      "Epoch [72/100](1.14s) Loss: 3.0893 F1(macro): 0.52%\n",
      "Epoch [73/100](1.26s) Loss: 3.5805 F1(macro): 0.48%\n",
      "Epoch [74/100](1.15s) Loss: 4.2352 F1(macro): 0.52%\n",
      "Epoch [75/100](1.12s) Loss: 4.7044 F1(macro): 0.48%\n",
      "Epoch [76/100](1.24s) Loss: 3.5293 F1(macro): 0.46%\n",
      "Epoch [77/100](1.2s) Loss: 2.9708 F1(macro): 0.38%\n",
      "Epoch [78/100](1.17s) Loss: 3.2773 F1(macro): 0.45%\n",
      "Epoch [79/100](1.18s) Loss: 2.9713 F1(macro): 0.41%\n",
      "Epoch [80/100](1.17s) Loss: 3.6075 F1(macro): 0.45%\n",
      "Epoch [81/100](1.15s) Loss: 2.3390 F1(macro): 0.49%\n",
      "Epoch [82/100](1.17s) Loss: 2.4578 F1(macro): 0.53%\n",
      "Epoch [83/100](1.15s) Loss: 3.1840 F1(macro): 0.43%\n",
      "Epoch [84/100](1.14s) Loss: 3.1502 F1(macro): 0.43%\n",
      "Epoch [85/100](1.28s) Loss: 2.6827 F1(macro): 0.45%\n",
      "Epoch [86/100](1.44s) Loss: 2.6864 F1(macro): 0.51%\n",
      "Epoch [87/100](2.0s) Loss: 2.2991 F1(macro): 0.44%\n",
      "Epoch [88/100](1.97s) Loss: 2.4676 F1(macro): 0.50%\n",
      "Epoch [89/100](1.93s) Loss: 2.4255 F1(macro): 0.48%\n",
      "Epoch [90/100](1.99s) Loss: 3.2344 F1(macro): 0.46%\n",
      "Epoch [91/100](2.0s) Loss: 2.7679 F1(macro): 0.49%\n",
      "Epoch [92/100](1.96s) Loss: 3.1698 F1(macro): 0.47%\n",
      "Epoch [93/100](1.94s) Loss: 2.7580 F1(macro): 0.43%\n",
      "Epoch [94/100](1.95s) Loss: 2.9769 F1(macro): 0.51%\n",
      "Epoch [95/100](1.96s) Loss: 3.1688 F1(macro): 0.51%\n",
      "Epoch [96/100](2.02s) Loss: 2.8863 F1(macro): 0.40%\n",
      "Epoch [97/100](1.94s) Loss: 2.1664 F1(macro): 0.53%\n",
      "Epoch [98/100](1.95s) Loss: 2.2416 F1(macro): 0.47%\n",
      "Epoch [99/100](2.07s) Loss: 2.3718 F1(macro): 0.42%\n",
      "Epoch [100/100](1.95s) Loss: 3.2670 F1(macro): 0.41%\n",
      "Test Loss: 0.5746 Test Accuracy: 43.33%\n"
     ]
    }
   ],
   "source": [
    "# Define the model's architecture\n",
    "num_features = len(X_train[0]['node_feat'][0])\n",
    "activation = nn.LeakyReLU()\n",
    "pooling = MeanPool()\n",
    "aggregation = SumAggregation()\n",
    "dropout = 0.1\n",
    "# architecture = [\n",
    "    # [GraphSAGEConv, {'in_features': num_features, 'out_features': 256, 'aggregation': aggregation, 'activation': activation}],\n",
    "    # [GraphSAGEConv, {'in_features': 256, 'out_features': 128, 'aggregation': aggregation, 'activation': activation}],\n",
    "# ]\n",
    "# architecture = [\n",
    "    # [GraphConv, {'in_features': num_features, 'out_features': 64, 'activation': activation}],\n",
    "    # [GraphConv, {'in_features': 64, 'out_features': 32, 'activation': activation}],\n",
    "# ]\n",
    "\n",
    "architecture = [\n",
    "    [GraphAttentionConv, {'in_features': num_features, 'out_features': 64}],\n",
    "    [GraphAttentionConv, {'in_features': 64, 'out_features': 32}],\n",
    "]\n",
    "\n",
    "# Define the model\n",
    "model = GNN(architecture, pooling, dropout=dropout)\n",
    "\n",
    "model = model.double()\n",
    "\n",
    "# Define hyperparameters for the model\n",
    "lr = 8e-1\n",
    "epochs = 100\n",
    "criterion = BCEWithLogitsLoss(pos_weight=torch.tensor(0.7, dtype=torch.double))\n",
    "# optimizer = SGD(model.parameters(), lr=lr, weight_decay=1e-5)\n",
    "optimizer = Adam(model.parameters(), lr=lr)\n",
    "\n",
    "# Train the model\n",
    "train(model, train_loader, criterion, optimizer, num_epochs=epochs)\n",
    "\n",
    "# Evaluate the model on validation dataset\n",
    "evaluate(model, val_loader, criterion)"
   ]
  },
  {
   "cell_type": "code",
   "execution_count": null,
   "metadata": {},
   "outputs": [],
   "source": []
  }
 ],
 "metadata": {
  "kernelspec": {
   "display_name": "cs502",
   "language": "python",
   "name": "python3"
  },
  "language_info": {
   "codemirror_mode": {
    "name": "ipython",
    "version": 3
   },
   "file_extension": ".py",
   "mimetype": "text/x-python",
   "name": "python",
   "nbconvert_exporter": "python",
   "pygments_lexer": "ipython3",
   "version": "3.9.18"
  }
 },
 "nbformat": 4,
 "nbformat_minor": 2
}
