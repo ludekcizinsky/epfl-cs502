{
 "cells": [
  {
   "cell_type": "code",
   "execution_count": 29,
   "metadata": {},
   "outputs": [
    {
     "name": "stdout",
     "output_type": "stream",
     "text": [
      "torch.Size([4, 3]) torch.Size([6]) torch.Size([6, 3])\n"
     ]
    }
   ],
   "source": [
    "import torch\n",
    "\n",
    "# -- Input\n",
    "# 4 nodes, 3 edges\n",
    "# 1 and 2 have 2 connections, the rest just 1\n",
    "adj = torch.Tensor([[0, 0, 1, 0], [0, 0, 1, 1], [1, 1, 0, 0], [0, 1, 0, 0]])\n",
    "edge_feat = torch.Tensor([[1, 1, 1], [1, 1, 1], [1, 1, 1], [1, 1, 1], [1,1,1], [1,1,1]])\n",
    "edge_index = torch.Tensor([[0, 2], [1, 2], [1, 3], [2, 1], [2, 3], [3, 1]])\n",
    "\n",
    "\n",
    "# -- Process\n",
    "# Using edge_index and edge_feat matrices, aggregate the edge features\n",
    "# so that each node has a feature vector based on the edges it is connected to\n",
    "num_nodes = adj.size(0)\n",
    "num_edges = edge_index.size(0)\n",
    "\n",
    "# Initialize the node features\n",
    "node_feat = torch.zeros(num_nodes, edge_feat.size(1))\n",
    "\n",
    "# -- Method 1\n",
    "# Iterate through the edges and aggregate edge features into node features\n",
    "node_feat2 = torch.zeros(num_nodes, edge_feat.size(1))\n",
    "for i, (src, dst) in enumerate(edge_index):\n",
    "    edge_feat_i = edge_feat[i]\n",
    "    node_feat2[src.to(int)] += edge_feat_i\n",
    "\n",
    "# -- Method 2\n",
    "# Gather edge features and accumulate them into node features\n",
    "node_feat = torch.zeros(num_nodes, edge_feat.size(1))\n",
    "src_nodes = edge_index[:, 0].to(int)\n",
    "print(node_feat.shape, src_nodes.shape, edge_feat.shape)\n",
    "node_feat.index_add_(0, src_nodes, edge_feat)\n",
    "\n",
    "assert torch.allclose(node_feat, node_feat2)"
   ]
  }
 ],
 "metadata": {
  "kernelspec": {
   "display_name": "cs502",
   "language": "python",
   "name": "python3"
  },
  "language_info": {
   "codemirror_mode": {
    "name": "ipython",
    "version": 3
   },
   "file_extension": ".py",
   "mimetype": "text/x-python",
   "name": "python",
   "nbconvert_exporter": "python",
   "pygments_lexer": "ipython3",
   "version": "3.9.18"
  }
 },
 "nbformat": 4,
 "nbformat_minor": 2
}
