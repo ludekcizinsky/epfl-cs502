{
 "cells": [
  {
   "cell_type": "markdown",
   "metadata": {},
   "source": [
    "### Homework 2: Graph Neural Networks\n",
    "\n",
    "- Author: Ludek Cizinsky (`ludek.cizinsky@epfl.ch`)"
   ]
  },
  {
   "cell_type": "markdown",
   "metadata": {},
   "source": [
    "### Notebeook setup"
   ]
  },
  {
   "cell_type": "markdown",
   "metadata": {},
   "source": [
    "#### Jupyter notebook utils"
   ]
  },
  {
   "cell_type": "code",
   "execution_count": 1,
   "metadata": {},
   "outputs": [],
   "source": [
    "%load_ext autoreload\n",
    "%autoreload 2"
   ]
  },
  {
   "cell_type": "markdown",
   "metadata": {},
   "source": [
    "#### Experiment logging (optional)"
   ]
  },
  {
   "cell_type": "code",
   "execution_count": 2,
   "metadata": {},
   "outputs": [],
   "source": [
    "LOGEXP = True # This enables w&b logging\n",
    "if LOGEXP:\n",
    "    import wandb\n",
    "    import os\n",
    "    os.environ[\"WANDB_NOTEBOOK_NAME\"] = \"run.ipynb\""
   ]
  },
  {
   "cell_type": "markdown",
   "metadata": {},
   "source": [
    "#### Dependencies import"
   ]
  },
  {
   "cell_type": "code",
   "execution_count": 3,
   "metadata": {},
   "outputs": [
    {
     "name": "stderr",
     "output_type": "stream",
     "text": [
      "/Users/ludekcizinsky/miniconda3/envs/cs502/lib/python3.9/site-packages/tqdm/auto.py:21: TqdmWarning: IProgress not found. Please update jupyter and ipywidgets. See https://ipywidgets.readthedocs.io/en/stable/user_install.html\n",
      "  from .autonotebook import tqdm as notebook_tqdm\n"
     ]
    }
   ],
   "source": [
    "# Hugging face util to download dataset\n",
    "from datasets import load_dataset\n",
    "\n",
    "# Scikit-learn\n",
    "from sklearn.model_selection import train_test_split\n",
    "\n",
    "# PyTorch\n",
    "import torch\n",
    "from torch import nn\n",
    "# - Dataloader\n",
    "from torch.utils.data import Dataset, DataLoader\n",
    "# - Optimization\n",
    "from torch.optim import Adam, SGD\n",
    "# - Loss\n",
    "from torch.nn import BCELoss, BCEWithLogitsLoss\n",
    "\n",
    "# Plotting\n",
    "import matplotlib.pyplot as plt\n",
    "import seaborn as sns\n",
    "sns.set_style(\"whitegrid\")\n",
    "\n",
    "# Custom scripts\n",
    "from scripts.dataset import GraphDataset\n",
    "from scripts.layers import (\n",
    "    # Normal\n",
    "    GraphConv,\n",
    "    # Graph Sage\n",
    "    GraphSAGEConv,\n",
    "    MeanAggregation,\n",
    "    # Graph Attention\n",
    "    GraphAttentionConv,\n",
    "    # Pooling\n",
    "    MeanPool,\n",
    "    MaxPool,\n",
    ")\n",
    "\n",
    "from scripts.architecture import (\n",
    "    GNN\n",
    ")\n",
    "\n",
    "from scripts.utils import (\n",
    "    train_and_evaluate,\n",
    "    plot_losses_and_f1s,\n",
    "    evaluate,\n",
    ")"
   ]
  },
  {
   "cell_type": "markdown",
   "metadata": {},
   "source": [
    "#### Reproducibility"
   ]
  },
  {
   "cell_type": "code",
   "execution_count": 4,
   "metadata": {},
   "outputs": [],
   "source": [
    "torch.backends.cudnn.deterministic = True\n",
    "torch.manual_seed(hash(\"GNNs\") % 2**32 - 1)\n",
    "torch.cuda.manual_seed_all(hash(\"are cool\") % 2**32 - 1)"
   ]
  },
  {
   "cell_type": "markdown",
   "metadata": {},
   "source": [
    "### Load the dataset\n",
    "\n",
    "Some important notes:\n",
    "\n",
    "- the dataset includes collection of chemical compounds represented as graphs (details are specified below), i.e., one sample is a graph and we have a corresponding ground truth label indicating whether the compound is mutagenic or not\n",
    "- On the lower level, each node has associated embedding (one hot encoding) indicating its type, same goes for the edges, **the dimensions of these embeddings are different**"
   ]
  },
  {
   "cell_type": "markdown",
   "metadata": {},
   "source": [
    "#### Download the dataset from Hugging Face (HF)"
   ]
  },
  {
   "cell_type": "code",
   "execution_count": 5,
   "metadata": {},
   "outputs": [],
   "source": [
    "dataset_hf = load_dataset(\"graphs-datasets/MUTAG\")['train']"
   ]
  },
  {
   "cell_type": "markdown",
   "metadata": {},
   "source": [
    "#### Train, validation and test split"
   ]
  },
  {
   "cell_type": "code",
   "execution_count": 6,
   "metadata": {},
   "outputs": [],
   "source": [
    "# Parse the dataset into X and y\n",
    "X, y = [], []\n",
    "for s in dataset_hf:\n",
    "    X.append(s)\n",
    "    y.extend(s['y'])\n",
    "\n",
    "# Split the dataset into train and test\n",
    "X_train, X_test, y_train, y_test = train_test_split(X, y, test_size=0.2, random_state=42)\n",
    "\n",
    "# Split the train dataset into train and validation\n",
    "X_train, X_val, y_train, y_val = train_test_split(X_train, y_train, test_size=0.2, random_state=42)"
   ]
  },
  {
   "cell_type": "markdown",
   "metadata": {},
   "source": [
    "#### Load it using custom dataloader"
   ]
  },
  {
   "cell_type": "code",
   "execution_count": 7,
   "metadata": {},
   "outputs": [],
   "source": [
    "# Define hyperparameters for the dataloader\n",
    "batch_size = 64\n",
    "shuffle = False\n",
    "\n",
    "# Define custom stacking behavior for the dataloader\n",
    "def collate_fn(batch):\n",
    "    inputs, labels = [], []\n",
    "    \n",
    "    for item in batch:\n",
    "        input_dict, label = item\n",
    "        inputs.append(input_dict)\n",
    "        labels.append(label)\n",
    "    \n",
    "    # Convert the list of labels to a 1D tensor\n",
    "    labels = torch.tensor(labels).view(-1).type(torch.FloatTensor)\n",
    "    \n",
    "    return inputs, labels\n",
    "\n",
    "# Define custom datasets\n",
    "train_dataset = GraphDataset(X_train, y_train)\n",
    "val_dataset = GraphDataset(X_val, y_val)\n",
    "test_dataset = GraphDataset(X_test, y_test)\n",
    "\n",
    "# Define custom dataloaders\n",
    "train_loader = DataLoader(\n",
    "    train_dataset,\n",
    "    batch_size=batch_size, \n",
    "    shuffle=shuffle,\n",
    "    collate_fn=collate_fn\n",
    ")\n",
    "\n",
    "val_loader = DataLoader(\n",
    "    val_dataset,\n",
    "    batch_size=batch_size, \n",
    "    shuffle=shuffle,\n",
    "    collate_fn=collate_fn\n",
    ")\n",
    "\n",
    "test_loader = DataLoader(\n",
    "    test_dataset,\n",
    "    batch_size=batch_size, \n",
    "    shuffle=shuffle,\n",
    "    collate_fn=collate_fn\n",
    ")"
   ]
  },
  {
   "cell_type": "markdown",
   "metadata": {},
   "source": [
    "### Implementation of different graph and convolution and pooling layers\n",
    "\n",
    "See the [layers.py file](scripts/layers.py) for the implementation details."
   ]
  },
  {
   "cell_type": "markdown",
   "metadata": {},
   "source": [
    "### Custom Network Design with Node Features"
   ]
  },
  {
   "cell_type": "code",
   "execution_count": 11,
   "metadata": {},
   "outputs": [
    {
     "data": {
      "text/html": [
       "Finishing last run (ID:mbn7mc0u) before initializing another..."
      ],
      "text/plain": [
       "<IPython.core.display.HTML object>"
      ]
     },
     "metadata": {},
     "output_type": "display_data"
    },
    {
     "data": {
      "text/html": [
       "Waiting for W&B process to finish... <strong style=\"color:green\">(success).</strong>"
      ],
      "text/plain": [
       "<IPython.core.display.HTML object>"
      ]
     },
     "metadata": {},
     "output_type": "display_data"
    },
    {
     "data": {
      "text/html": [
       "<style>\n",
       "    table.wandb td:nth-child(1) { padding: 0 10px; text-align: left ; width: auto;} td:nth-child(2) {text-align: left ; width: 100%}\n",
       "    .wandb-row { display: flex; flex-direction: row; flex-wrap: wrap; justify-content: flex-start; width: 100% }\n",
       "    .wandb-col { display: flex; flex-direction: column; flex-basis: 100%; flex: 1; padding: 10px; }\n",
       "    </style>\n",
       "<div class=\"wandb-row\"><div class=\"wandb-col\"><h3>Run history:</h3><br/><table class=\"wandb\"><tr><td>Train F1 (macro)</td><td>▁▁▁▁▅▅▇▇████████████████████████████████</td></tr><tr><td>Train Loss</td><td>██▇▇▆▅▅▄▃▃▃▂▂▂▂▂▁▁▁▁▁▁▁▁▁▁▁▁▁▁▁▁▁▁▁▁▁▁▁▁</td></tr><tr><td>Validation F1 (macro)</td><td>▁▁▁▁▄▅▇▇▇▇▇▇▇▇▇▇████████████████████████</td></tr><tr><td>Validation Loss</td><td>█▇▇▆▅▅▄▃▃▂▂▂▂▁▁▁▁▁▁▁▁▁▁▁▁▁▁▁▁▁▁▁▁▁▁▁▁▁▁▁</td></tr></table><br/></div><div class=\"wandb-col\"><h3>Run summary:</h3><br/><table class=\"wandb\"><tr><td>Train F1 (macro)</td><td>0.81576</td></tr><tr><td>Train Loss</td><td>0.64261</td></tr><tr><td>Validation F1 (macro)</td><td>0.82857</td></tr><tr><td>Validation Loss</td><td>0.37921</td></tr></table><br/></div></div>"
      ],
      "text/plain": [
       "<IPython.core.display.HTML object>"
      ]
     },
     "metadata": {},
     "output_type": "display_data"
    },
    {
     "data": {
      "text/html": [
       " View run <strong style=\"color:#cdcd00\">ancient-snowball-49</strong> at: <a href='https://wandb.ai/ludekcizinsky/cs502-hw2-gnns/runs/mbn7mc0u' target=\"_blank\">https://wandb.ai/ludekcizinsky/cs502-hw2-gnns/runs/mbn7mc0u</a><br/> View job at <a href='https://wandb.ai/ludekcizinsky/cs502-hw2-gnns/jobs/QXJ0aWZhY3RDb2xsZWN0aW9uOjEwOTI4NjgzMg==/version_details/v9' target=\"_blank\">https://wandb.ai/ludekcizinsky/cs502-hw2-gnns/jobs/QXJ0aWZhY3RDb2xsZWN0aW9uOjEwOTI4NjgzMg==/version_details/v9</a><br/>Synced 6 W&B file(s), 0 media file(s), 0 artifact file(s) and 0 other file(s)"
      ],
      "text/plain": [
       "<IPython.core.display.HTML object>"
      ]
     },
     "metadata": {},
     "output_type": "display_data"
    },
    {
     "data": {
      "text/html": [
       "Find logs at: <code>./wandb/run-20231025_123240-mbn7mc0u/logs</code>"
      ],
      "text/plain": [
       "<IPython.core.display.HTML object>"
      ]
     },
     "metadata": {},
     "output_type": "display_data"
    },
    {
     "data": {
      "text/html": [
       "Successfully finished last run (ID:mbn7mc0u). Initializing new run:<br/>"
      ],
      "text/plain": [
       "<IPython.core.display.HTML object>"
      ]
     },
     "metadata": {},
     "output_type": "display_data"
    },
    {
     "data": {
      "text/html": [
       "Tracking run with wandb version 0.15.12"
      ],
      "text/plain": [
       "<IPython.core.display.HTML object>"
      ]
     },
     "metadata": {},
     "output_type": "display_data"
    },
    {
     "data": {
      "text/html": [
       "Run data is saved locally in <code>/Users/ludekcizinsky/Dev/personal/epfl-cs502/coursework/homeworks/hw2/wandb/run-20231025_123405-rr4eb0xz</code>"
      ],
      "text/plain": [
       "<IPython.core.display.HTML object>"
      ]
     },
     "metadata": {},
     "output_type": "display_data"
    },
    {
     "data": {
      "text/html": [
       "Syncing run <strong><a href='https://wandb.ai/ludekcizinsky/cs502-hw2-gnns/runs/rr4eb0xz' target=\"_blank\">stellar-deluge-50</a></strong> to <a href='https://wandb.ai/ludekcizinsky/cs502-hw2-gnns' target=\"_blank\">Weights & Biases</a> (<a href='https://wandb.me/run' target=\"_blank\">docs</a>)<br/>"
      ],
      "text/plain": [
       "<IPython.core.display.HTML object>"
      ]
     },
     "metadata": {},
     "output_type": "display_data"
    },
    {
     "data": {
      "text/html": [
       " View project at <a href='https://wandb.ai/ludekcizinsky/cs502-hw2-gnns' target=\"_blank\">https://wandb.ai/ludekcizinsky/cs502-hw2-gnns</a>"
      ],
      "text/plain": [
       "<IPython.core.display.HTML object>"
      ]
     },
     "metadata": {},
     "output_type": "display_data"
    },
    {
     "data": {
      "text/html": [
       " View run at <a href='https://wandb.ai/ludekcizinsky/cs502-hw2-gnns/runs/rr4eb0xz' target=\"_blank\">https://wandb.ai/ludekcizinsky/cs502-hw2-gnns/runs/rr4eb0xz</a>"
      ],
      "text/plain": [
       "<IPython.core.display.HTML object>"
      ]
     },
     "metadata": {},
     "output_type": "display_data"
    },
    {
     "name": "stdout",
     "output_type": "stream",
     "text": [
      "Epoch [1/200](0.21s) Train Loss: 1.0893 Train F1(macro): 0.41% Validation Loss: 0.5948 Validation F1(macro): 0.36%\n",
      "Epoch [2/200](0.16s) Train Loss: 1.0704 Train F1(macro): 0.41% Validation Loss: 0.6187 Validation F1(macro): 0.36%\n",
      "Epoch [3/200](0.19s) Train Loss: 1.0743 Train F1(macro): 0.41% Validation Loss: 0.6223 Validation F1(macro): 0.36%\n",
      "Epoch [4/200](0.16s) Train Loss: 1.0715 Train F1(macro): 0.41% Validation Loss: 0.6096 Validation F1(macro): 0.36%\n",
      "Epoch [5/200](0.16s) Train Loss: 1.0646 Train F1(macro): 0.41% Validation Loss: 0.5947 Validation F1(macro): 0.36%\n",
      "Epoch [6/200](0.16s) Train Loss: 1.0616 Train F1(macro): 0.41% Validation Loss: 0.5855 Validation F1(macro): 0.36%\n",
      "Epoch [7/200](0.18s) Train Loss: 1.0621 Train F1(macro): 0.41% Validation Loss: 0.5834 Validation F1(macro): 0.36%\n",
      "Epoch [8/200](0.16s) Train Loss: 1.0615 Train F1(macro): 0.41% Validation Loss: 0.5867 Validation F1(macro): 0.36%\n",
      "Epoch [9/200](0.18s) Train Loss: 1.0591 Train F1(macro): 0.41% Validation Loss: 0.5936 Validation F1(macro): 0.36%\n",
      "Epoch [10/200](0.16s) Train Loss: 1.0580 Train F1(macro): 0.41% Validation Loss: 0.6002 Validation F1(macro): 0.36%\n",
      "Epoch [11/200](0.17s) Train Loss: 1.0584 Train F1(macro): 0.41% Validation Loss: 0.6025 Validation F1(macro): 0.36%\n",
      "Epoch [12/200](0.16s) Train Loss: 1.0583 Train F1(macro): 0.41% Validation Loss: 0.5995 Validation F1(macro): 0.36%\n",
      "Epoch [13/200](0.18s) Train Loss: 1.0566 Train F1(macro): 0.41% Validation Loss: 0.5938 Validation F1(macro): 0.36%\n",
      "Epoch [14/200](0.16s) Train Loss: 1.0555 Train F1(macro): 0.41% Validation Loss: 0.5888 Validation F1(macro): 0.36%\n",
      "Epoch [15/200](0.18s) Train Loss: 1.0552 Train F1(macro): 0.41% Validation Loss: 0.5868 Validation F1(macro): 0.36%\n",
      "Epoch [16/200](0.16s) Train Loss: 1.0545 Train F1(macro): 0.41% Validation Loss: 0.5879 Validation F1(macro): 0.36%\n",
      "Epoch [17/200](0.22s) Train Loss: 1.0541 Train F1(macro): 0.41% Validation Loss: 0.5910 Validation F1(macro): 0.36%\n",
      "Epoch [18/200](0.16s) Train Loss: 1.0539 Train F1(macro): 0.41% Validation Loss: 0.5940 Validation F1(macro): 0.36%\n",
      "Epoch [19/200](0.18s) Train Loss: 1.0532 Train F1(macro): 0.41% Validation Loss: 0.5948 Validation F1(macro): 0.36%\n",
      "Epoch [20/200](0.16s) Train Loss: 1.0528 Train F1(macro): 0.41% Validation Loss: 0.5929 Validation F1(macro): 0.36%\n",
      "Epoch [21/200](0.27s) Train Loss: 1.0518 Train F1(macro): 0.41% Validation Loss: 0.5897 Validation F1(macro): 0.36%\n",
      "Epoch [22/200](0.48s) Train Loss: 1.0505 Train F1(macro): 0.41% Validation Loss: 0.5871 Validation F1(macro): 0.36%\n",
      "Epoch [23/200](0.18s) Train Loss: 1.0497 Train F1(macro): 0.41% Validation Loss: 0.5862 Validation F1(macro): 0.36%\n",
      "Epoch [24/200](0.16s) Train Loss: 1.0484 Train F1(macro): 0.41% Validation Loss: 0.5870 Validation F1(macro): 0.36%\n",
      "Epoch [25/200](0.19s) Train Loss: 1.0475 Train F1(macro): 0.41% Validation Loss: 0.5883 Validation F1(macro): 0.36%\n",
      "Epoch [26/200](0.2s) Train Loss: 1.0471 Train F1(macro): 0.41% Validation Loss: 0.5886 Validation F1(macro): 0.36%\n",
      "Epoch [27/200](0.17s) Train Loss: 1.0452 Train F1(macro): 0.41% Validation Loss: 0.5873 Validation F1(macro): 0.36%\n",
      "Epoch [28/200](0.23s) Train Loss: 1.0447 Train F1(macro): 0.41% Validation Loss: 0.5851 Validation F1(macro): 0.36%\n",
      "Epoch [29/200](0.23s) Train Loss: 1.0427 Train F1(macro): 0.41% Validation Loss: 0.5830 Validation F1(macro): 0.36%\n",
      "Epoch [30/200](0.22s) Train Loss: 1.0409 Train F1(macro): 0.41% Validation Loss: 0.5819 Validation F1(macro): 0.36%\n",
      "Epoch [31/200](0.38s) Train Loss: 1.0385 Train F1(macro): 0.41% Validation Loss: 0.5818 Validation F1(macro): 0.36%\n",
      "Epoch [32/200](0.29s) Train Loss: 1.0376 Train F1(macro): 0.41% Validation Loss: 0.5818 Validation F1(macro): 0.36%\n",
      "Epoch [33/200](0.27s) Train Loss: 1.0355 Train F1(macro): 0.41% Validation Loss: 0.5812 Validation F1(macro): 0.36%\n",
      "Epoch [34/200](0.32s) Train Loss: 1.0341 Train F1(macro): 0.41% Validation Loss: 0.5796 Validation F1(macro): 0.36%\n",
      "Epoch [35/200](0.24s) Train Loss: 1.0328 Train F1(macro): 0.41% Validation Loss: 0.5775 Validation F1(macro): 0.36%\n",
      "Epoch [36/200](0.2s) Train Loss: 1.0298 Train F1(macro): 0.41% Validation Loss: 0.5758 Validation F1(macro): 0.36%\n",
      "Epoch [37/200](0.18s) Train Loss: 1.0280 Train F1(macro): 0.41% Validation Loss: 0.5748 Validation F1(macro): 0.36%\n",
      "Epoch [38/200](0.26s) Train Loss: 1.0250 Train F1(macro): 0.41% Validation Loss: 0.5742 Validation F1(macro): 0.36%\n",
      "Epoch [39/200](0.22s) Train Loss: 1.0232 Train F1(macro): 0.41% Validation Loss: 0.5732 Validation F1(macro): 0.36%\n",
      "Epoch [40/200](0.25s) Train Loss: 1.0208 Train F1(macro): 0.41% Validation Loss: 0.5714 Validation F1(macro): 0.36%\n",
      "Epoch [41/200](0.2s) Train Loss: 1.0178 Train F1(macro): 0.41% Validation Loss: 0.5693 Validation F1(macro): 0.36%\n",
      "Epoch [42/200](0.19s) Train Loss: 1.0151 Train F1(macro): 0.41% Validation Loss: 0.5673 Validation F1(macro): 0.36%\n",
      "Epoch [43/200](0.17s) Train Loss: 1.0125 Train F1(macro): 0.41% Validation Loss: 0.5659 Validation F1(macro): 0.36%\n",
      "Epoch [44/200](0.24s) Train Loss: 1.0100 Train F1(macro): 0.41% Validation Loss: 0.5648 Validation F1(macro): 0.36%\n",
      "Epoch [45/200](0.26s) Train Loss: 1.0070 Train F1(macro): 0.41% Validation Loss: 0.5634 Validation F1(macro): 0.36%\n",
      "Epoch [46/200](0.21s) Train Loss: 1.0042 Train F1(macro): 0.41% Validation Loss: 0.5613 Validation F1(macro): 0.36%\n",
      "Epoch [47/200](0.22s) Train Loss: 1.0008 Train F1(macro): 0.41% Validation Loss: 0.5589 Validation F1(macro): 0.36%\n",
      "Epoch [48/200](0.26s) Train Loss: 0.9972 Train F1(macro): 0.41% Validation Loss: 0.5569 Validation F1(macro): 0.36%\n",
      "Epoch [49/200](0.17s) Train Loss: 0.9935 Train F1(macro): 0.41% Validation Loss: 0.5552 Validation F1(macro): 0.36%\n",
      "Epoch [50/200](0.16s) Train Loss: 0.9900 Train F1(macro): 0.41% Validation Loss: 0.5534 Validation F1(macro): 0.36%\n",
      "Epoch [51/200](0.15s) Train Loss: 0.9872 Train F1(macro): 0.41% Validation Loss: 0.5512 Validation F1(macro): 0.36%\n",
      "Epoch [52/200](0.16s) Train Loss: 0.9834 Train F1(macro): 0.41% Validation Loss: 0.5488 Validation F1(macro): 0.36%\n",
      "Epoch [53/200](0.15s) Train Loss: 0.9792 Train F1(macro): 0.43% Validation Loss: 0.5467 Validation F1(macro): 0.36%\n",
      "Epoch [54/200](0.16s) Train Loss: 0.9754 Train F1(macro): 0.43% Validation Loss: 0.5447 Validation F1(macro): 0.36%\n",
      "Epoch [55/200](0.17s) Train Loss: 0.9714 Train F1(macro): 0.43% Validation Loss: 0.5426 Validation F1(macro): 0.36%\n",
      "Epoch [56/200](0.17s) Train Loss: 0.9683 Train F1(macro): 0.43% Validation Loss: 0.5401 Validation F1(macro): 0.36%\n",
      "Epoch [57/200](0.44s) Train Loss: 0.9628 Train F1(macro): 0.43% Validation Loss: 0.5378 Validation F1(macro): 0.36%\n",
      "Epoch [58/200](0.16s) Train Loss: 0.9591 Train F1(macro): 0.43% Validation Loss: 0.5356 Validation F1(macro): 0.36%\n",
      "Epoch [59/200](0.2s) Train Loss: 0.9555 Train F1(macro): 0.55% Validation Loss: 0.5333 Validation F1(macro): 0.57%\n",
      "Epoch [60/200](0.18s) Train Loss: 0.9510 Train F1(macro): 0.62% Validation Loss: 0.5308 Validation F1(macro): 0.57%\n",
      "Epoch [61/200](0.22s) Train Loss: 0.9475 Train F1(macro): 0.64% Validation Loss: 0.5283 Validation F1(macro): 0.57%\n",
      "Epoch [62/200](0.23s) Train Loss: 0.9430 Train F1(macro): 0.64% Validation Loss: 0.5262 Validation F1(macro): 0.57%\n",
      "Epoch [63/200](0.24s) Train Loss: 0.9390 Train F1(macro): 0.64% Validation Loss: 0.5239 Validation F1(macro): 0.57%\n",
      "Epoch [64/200](0.2s) Train Loss: 0.9340 Train F1(macro): 0.64% Validation Loss: 0.5215 Validation F1(macro): 0.57%\n",
      "Epoch [65/200](0.18s) Train Loss: 0.9309 Train F1(macro): 0.64% Validation Loss: 0.5188 Validation F1(macro): 0.57%\n",
      "Epoch [66/200](0.22s) Train Loss: 0.9273 Train F1(macro): 0.64% Validation Loss: 0.5164 Validation F1(macro): 0.57%\n",
      "Epoch [67/200](0.38s) Train Loss: 0.9201 Train F1(macro): 0.67% Validation Loss: 0.5141 Validation F1(macro): 0.65%\n",
      "Epoch [68/200](0.19s) Train Loss: 0.9185 Train F1(macro): 0.64% Validation Loss: 0.5119 Validation F1(macro): 0.65%\n",
      "Epoch [69/200](0.3s) Train Loss: 0.9140 Train F1(macro): 0.67% Validation Loss: 0.5096 Validation F1(macro): 0.65%\n",
      "Epoch [70/200](0.27s) Train Loss: 0.9103 Train F1(macro): 0.67% Validation Loss: 0.5072 Validation F1(macro): 0.65%\n",
      "Epoch [71/200](0.21s) Train Loss: 0.9053 Train F1(macro): 0.67% Validation Loss: 0.5046 Validation F1(macro): 0.65%\n",
      "Epoch [72/200](0.18s) Train Loss: 0.9006 Train F1(macro): 0.67% Validation Loss: 0.5026 Validation F1(macro): 0.65%\n",
      "Epoch [73/200](0.18s) Train Loss: 0.8964 Train F1(macro): 0.67% Validation Loss: 0.5007 Validation F1(macro): 0.65%\n",
      "Epoch [74/200](0.28s) Train Loss: 0.8935 Train F1(macro): 0.67% Validation Loss: 0.4980 Validation F1(macro): 0.65%\n",
      "Epoch [75/200](0.17s) Train Loss: 0.8893 Train F1(macro): 0.69% Validation Loss: 0.4954 Validation F1(macro): 0.65%\n",
      "Epoch [76/200](0.18s) Train Loss: 0.8841 Train F1(macro): 0.67% Validation Loss: 0.4936 Validation F1(macro): 0.65%\n",
      "Epoch [77/200](0.16s) Train Loss: 0.8803 Train F1(macro): 0.67% Validation Loss: 0.4915 Validation F1(macro): 0.65%\n",
      "Epoch [78/200](0.2s) Train Loss: 0.8771 Train F1(macro): 0.72% Validation Loss: 0.4891 Validation F1(macro): 0.65%\n",
      "Epoch [79/200](0.21s) Train Loss: 0.8716 Train F1(macro): 0.70% Validation Loss: 0.4873 Validation F1(macro): 0.65%\n",
      "Epoch [80/200](0.17s) Train Loss: 0.8691 Train F1(macro): 0.73% Validation Loss: 0.4848 Validation F1(macro): 0.75%\n",
      "Epoch [81/200](0.36s) Train Loss: 0.8644 Train F1(macro): 0.76% Validation Loss: 0.4821 Validation F1(macro): 0.75%\n",
      "Epoch [82/200](0.36s) Train Loss: 0.8607 Train F1(macro): 0.76% Validation Loss: 0.4801 Validation F1(macro): 0.75%\n",
      "Epoch [83/200](0.42s) Train Loss: 0.8570 Train F1(macro): 0.76% Validation Loss: 0.4784 Validation F1(macro): 0.75%\n",
      "Epoch [84/200](0.34s) Train Loss: 0.8523 Train F1(macro): 0.77% Validation Loss: 0.4760 Validation F1(macro): 0.75%\n",
      "Epoch [85/200](0.32s) Train Loss: 0.8480 Train F1(macro): 0.77% Validation Loss: 0.4738 Validation F1(macro): 0.75%\n",
      "Epoch [86/200](0.2s) Train Loss: 0.8446 Train F1(macro): 0.77% Validation Loss: 0.4718 Validation F1(macro): 0.75%\n",
      "Epoch [87/200](0.2s) Train Loss: 0.8394 Train F1(macro): 0.78% Validation Loss: 0.4701 Validation F1(macro): 0.75%\n",
      "Epoch [88/200](0.21s) Train Loss: 0.8396 Train F1(macro): 0.77% Validation Loss: 0.4688 Validation F1(macro): 0.75%\n",
      "Epoch [89/200](0.21s) Train Loss: 0.8348 Train F1(macro): 0.77% Validation Loss: 0.4662 Validation F1(macro): 0.75%\n",
      "Epoch [90/200](0.3s) Train Loss: 0.8319 Train F1(macro): 0.77% Validation Loss: 0.4641 Validation F1(macro): 0.75%\n",
      "Epoch [91/200](0.19s) Train Loss: 0.8287 Train F1(macro): 0.77% Validation Loss: 0.4631 Validation F1(macro): 0.75%\n",
      "Epoch [92/200](0.21s) Train Loss: 0.8227 Train F1(macro): 0.77% Validation Loss: 0.4620 Validation F1(macro): 0.75%\n",
      "Epoch [93/200](0.27s) Train Loss: 0.8201 Train F1(macro): 0.77% Validation Loss: 0.4595 Validation F1(macro): 0.75%\n",
      "Epoch [94/200](0.18s) Train Loss: 0.8179 Train F1(macro): 0.77% Validation Loss: 0.4583 Validation F1(macro): 0.75%\n",
      "Epoch [95/200](0.21s) Train Loss: 0.8173 Train F1(macro): 0.77% Validation Loss: 0.4580 Validation F1(macro): 0.75%\n",
      "Epoch [96/200](0.16s) Train Loss: 0.8151 Train F1(macro): 0.77% Validation Loss: 0.4548 Validation F1(macro): 0.75%\n",
      "Epoch [97/200](0.17s) Train Loss: 0.8100 Train F1(macro): 0.77% Validation Loss: 0.4536 Validation F1(macro): 0.75%\n",
      "Epoch [98/200](0.15s) Train Loss: 0.8087 Train F1(macro): 0.77% Validation Loss: 0.4539 Validation F1(macro): 0.75%\n",
      "Epoch [99/200](0.17s) Train Loss: 0.8063 Train F1(macro): 0.77% Validation Loss: 0.4509 Validation F1(macro): 0.75%\n",
      "Epoch [100/200](0.16s) Train Loss: 0.8048 Train F1(macro): 0.77% Validation Loss: 0.4485 Validation F1(macro): 0.75%\n",
      "Epoch [101/200](0.3s) Train Loss: 0.8006 Train F1(macro): 0.78% Validation Loss: 0.4503 Validation F1(macro): 0.75%\n",
      "Epoch [102/200](0.18s) Train Loss: 0.8006 Train F1(macro): 0.77% Validation Loss: 0.4474 Validation F1(macro): 0.75%\n",
      "Epoch [103/200](0.16s) Train Loss: 0.7946 Train F1(macro): 0.81% Validation Loss: 0.4457 Validation F1(macro): 0.75%\n",
      "Epoch [104/200](0.16s) Train Loss: 0.7932 Train F1(macro): 0.78% Validation Loss: 0.4458 Validation F1(macro): 0.75%\n",
      "Epoch [105/200](0.41s) Train Loss: 0.7906 Train F1(macro): 0.78% Validation Loss: 0.4435 Validation F1(macro): 0.75%\n",
      "Epoch [106/200](0.19s) Train Loss: 0.7898 Train F1(macro): 0.77% Validation Loss: 0.4422 Validation F1(macro): 0.75%\n",
      "Epoch [107/200](0.17s) Train Loss: 0.7876 Train F1(macro): 0.78% Validation Loss: 0.4419 Validation F1(macro): 0.75%\n",
      "Epoch [108/200](0.16s) Train Loss: 0.7856 Train F1(macro): 0.79% Validation Loss: 0.4392 Validation F1(macro): 0.75%\n",
      "Epoch [109/200](0.19s) Train Loss: 0.7822 Train F1(macro): 0.83% Validation Loss: 0.4395 Validation F1(macro): 0.75%\n",
      "Epoch [110/200](0.35s) Train Loss: 0.7797 Train F1(macro): 0.78% Validation Loss: 0.4392 Validation F1(macro): 0.75%\n",
      "Epoch [111/200](0.21s) Train Loss: 0.7793 Train F1(macro): 0.82% Validation Loss: 0.4367 Validation F1(macro): 0.75%\n",
      "Epoch [112/200](0.23s) Train Loss: 0.7773 Train F1(macro): 0.84% Validation Loss: 0.4374 Validation F1(macro): 0.75%\n",
      "Epoch [113/200](0.38s) Train Loss: 0.7735 Train F1(macro): 0.81% Validation Loss: 0.4359 Validation F1(macro): 0.75%\n",
      "Epoch [114/200](0.25s) Train Loss: 0.7745 Train F1(macro): 0.83% Validation Loss: 0.4339 Validation F1(macro): 0.75%\n",
      "Epoch [115/200](0.19s) Train Loss: 0.7721 Train F1(macro): 0.81% Validation Loss: 0.4349 Validation F1(macro): 0.75%\n",
      "Epoch [116/200](0.27s) Train Loss: 0.7698 Train F1(macro): 0.83% Validation Loss: 0.4320 Validation F1(macro): 0.75%\n",
      "Epoch [117/200](0.16s) Train Loss: 0.7679 Train F1(macro): 0.84% Validation Loss: 0.4327 Validation F1(macro): 0.75%\n",
      "Epoch [118/200](0.15s) Train Loss: 0.7650 Train F1(macro): 0.84% Validation Loss: 0.4317 Validation F1(macro): 0.75%\n",
      "Epoch [119/200](0.15s) Train Loss: 0.7632 Train F1(macro): 0.84% Validation Loss: 0.4302 Validation F1(macro): 0.75%\n",
      "Epoch [120/200](0.17s) Train Loss: 0.7618 Train F1(macro): 0.84% Validation Loss: 0.4306 Validation F1(macro): 0.75%\n",
      "Epoch [121/200](0.17s) Train Loss: 0.7625 Train F1(macro): 0.84% Validation Loss: 0.4293 Validation F1(macro): 0.75%\n",
      "Epoch [122/200](0.19s) Train Loss: 0.7586 Train F1(macro): 0.82% Validation Loss: 0.4277 Validation F1(macro): 0.75%\n",
      "Epoch [123/200](0.28s) Train Loss: 0.7575 Train F1(macro): 0.84% Validation Loss: 0.4276 Validation F1(macro): 0.75%\n",
      "Epoch [124/200](0.25s) Train Loss: 0.7563 Train F1(macro): 0.84% Validation Loss: 0.4274 Validation F1(macro): 0.75%\n",
      "Epoch [125/200](0.16s) Train Loss: 0.7559 Train F1(macro): 0.84% Validation Loss: 0.4269 Validation F1(macro): 0.75%\n",
      "Epoch [126/200](0.2s) Train Loss: 0.7560 Train F1(macro): 0.84% Validation Loss: 0.4250 Validation F1(macro): 0.75%\n",
      "Epoch [127/200](0.17s) Train Loss: 0.7538 Train F1(macro): 0.83% Validation Loss: 0.4255 Validation F1(macro): 0.75%\n",
      "Epoch [128/200](0.17s) Train Loss: 0.7512 Train F1(macro): 0.84% Validation Loss: 0.4244 Validation F1(macro): 0.75%\n",
      "Epoch [129/200](0.16s) Train Loss: 0.7497 Train F1(macro): 0.84% Validation Loss: 0.4231 Validation F1(macro): 0.75%\n",
      "Epoch [130/200](0.15s) Train Loss: 0.7483 Train F1(macro): 0.84% Validation Loss: 0.4236 Validation F1(macro): 0.75%\n",
      "Epoch [131/200](0.15s) Train Loss: 0.7479 Train F1(macro): 0.84% Validation Loss: 0.4228 Validation F1(macro): 0.75%\n",
      "Epoch [132/200](0.16s) Train Loss: 0.7455 Train F1(macro): 0.84% Validation Loss: 0.4212 Validation F1(macro): 0.75%\n",
      "Epoch [133/200](0.16s) Train Loss: 0.7473 Train F1(macro): 0.84% Validation Loss: 0.4217 Validation F1(macro): 0.75%\n",
      "Epoch [134/200](0.15s) Train Loss: 0.7444 Train F1(macro): 0.84% Validation Loss: 0.4206 Validation F1(macro): 0.75%\n",
      "Epoch [135/200](0.18s) Train Loss: 0.7429 Train F1(macro): 0.84% Validation Loss: 0.4204 Validation F1(macro): 0.75%\n",
      "Epoch [136/200](0.16s) Train Loss: 0.7417 Train F1(macro): 0.84% Validation Loss: 0.4191 Validation F1(macro): 0.75%\n",
      "Epoch [137/200](0.2s) Train Loss: 0.7427 Train F1(macro): 0.84% Validation Loss: 0.4207 Validation F1(macro): 0.75%\n",
      "Epoch [138/200](0.17s) Train Loss: 0.7380 Train F1(macro): 0.84% Validation Loss: 0.4180 Validation F1(macro): 0.75%\n",
      "Epoch [139/200](0.16s) Train Loss: 0.7407 Train F1(macro): 0.84% Validation Loss: 0.4185 Validation F1(macro): 0.75%\n",
      "Epoch [140/200](0.16s) Train Loss: 0.7353 Train F1(macro): 0.84% Validation Loss: 0.4173 Validation F1(macro): 0.75%\n",
      "Epoch [141/200](0.17s) Train Loss: 0.7394 Train F1(macro): 0.84% Validation Loss: 0.4180 Validation F1(macro): 0.75%\n",
      "Epoch [142/200](0.16s) Train Loss: 0.7396 Train F1(macro): 0.84% Validation Loss: 0.4167 Validation F1(macro): 0.75%\n",
      "Epoch [143/200](0.16s) Train Loss: 0.7365 Train F1(macro): 0.84% Validation Loss: 0.4148 Validation F1(macro): 0.75%\n",
      "Epoch [144/200](0.17s) Train Loss: 0.7358 Train F1(macro): 0.84% Validation Loss: 0.4176 Validation F1(macro): 0.75%\n",
      "Epoch [145/200](0.25s) Train Loss: 0.7333 Train F1(macro): 0.84% Validation Loss: 0.4149 Validation F1(macro): 0.75%\n",
      "Epoch [146/200](0.25s) Train Loss: 0.7317 Train F1(macro): 0.84% Validation Loss: 0.4152 Validation F1(macro): 0.75%\n",
      "Epoch [147/200](0.21s) Train Loss: 0.7337 Train F1(macro): 0.84% Validation Loss: 0.4163 Validation F1(macro): 0.75%\n",
      "Epoch [148/200](0.24s) Train Loss: 0.7336 Train F1(macro): 0.84% Validation Loss: 0.4128 Validation F1(macro): 0.75%\n",
      "Epoch [149/200](0.17s) Train Loss: 0.7315 Train F1(macro): 0.84% Validation Loss: 0.4156 Validation F1(macro): 0.75%\n",
      "Epoch [150/200](0.18s) Train Loss: 0.7322 Train F1(macro): 0.84% Validation Loss: 0.4135 Validation F1(macro): 0.75%\n",
      "Epoch [151/200](0.21s) Train Loss: 0.7297 Train F1(macro): 0.84% Validation Loss: 0.4130 Validation F1(macro): 0.75%\n",
      "Epoch [152/200](0.18s) Train Loss: 0.7294 Train F1(macro): 0.84% Validation Loss: 0.4138 Validation F1(macro): 0.75%\n",
      "Epoch [153/200](0.18s) Train Loss: 0.7285 Train F1(macro): 0.84% Validation Loss: 0.4119 Validation F1(macro): 0.75%\n",
      "Epoch [154/200](0.17s) Train Loss: 0.7303 Train F1(macro): 0.84% Validation Loss: 0.4123 Validation F1(macro): 0.75%\n",
      "Epoch [155/200](0.17s) Train Loss: 0.7262 Train F1(macro): 0.84% Validation Loss: 0.4136 Validation F1(macro): 0.75%\n",
      "Epoch [156/200](0.2s) Train Loss: 0.7258 Train F1(macro): 0.84% Validation Loss: 0.4096 Validation F1(macro): 0.75%\n",
      "Epoch [157/200](0.19s) Train Loss: 0.7248 Train F1(macro): 0.84% Validation Loss: 0.4122 Validation F1(macro): 0.75%\n",
      "Epoch [158/200](0.33s) Train Loss: 0.7244 Train F1(macro): 0.84% Validation Loss: 0.4127 Validation F1(macro): 0.75%\n",
      "Epoch [159/200](0.22s) Train Loss: 0.7233 Train F1(macro): 0.84% Validation Loss: 0.4100 Validation F1(macro): 0.75%\n",
      "Epoch [160/200](0.23s) Train Loss: 0.7227 Train F1(macro): 0.84% Validation Loss: 0.4125 Validation F1(macro): 0.75%\n",
      "Epoch [161/200](0.21s) Train Loss: 0.7236 Train F1(macro): 0.84% Validation Loss: 0.4096 Validation F1(macro): 0.75%\n",
      "Epoch [162/200](0.18s) Train Loss: 0.7204 Train F1(macro): 0.84% Validation Loss: 0.4102 Validation F1(macro): 0.75%\n",
      "Epoch [163/200](0.24s) Train Loss: 0.7256 Train F1(macro): 0.84% Validation Loss: 0.4102 Validation F1(macro): 0.75%\n",
      "Epoch [164/200](0.2s) Train Loss: 0.7243 Train F1(macro): 0.84% Validation Loss: 0.4079 Validation F1(macro): 0.75%\n",
      "Epoch [165/200](0.18s) Train Loss: 0.7232 Train F1(macro): 0.84% Validation Loss: 0.4101 Validation F1(macro): 0.75%\n",
      "Epoch [166/200](0.16s) Train Loss: 0.7224 Train F1(macro): 0.84% Validation Loss: 0.4092 Validation F1(macro): 0.75%\n",
      "Epoch [167/200](0.19s) Train Loss: 0.7215 Train F1(macro): 0.84% Validation Loss: 0.4091 Validation F1(macro): 0.75%\n",
      "Epoch [168/200](0.2s) Train Loss: 0.7218 Train F1(macro): 0.84% Validation Loss: 0.4092 Validation F1(macro): 0.75%\n",
      "Epoch [169/200](0.17s) Train Loss: 0.7181 Train F1(macro): 0.84% Validation Loss: 0.4075 Validation F1(macro): 0.75%\n",
      "Epoch [170/200](0.21s) Train Loss: 0.7200 Train F1(macro): 0.84% Validation Loss: 0.4081 Validation F1(macro): 0.75%\n",
      "Epoch [171/200](0.17s) Train Loss: 0.7179 Train F1(macro): 0.84% Validation Loss: 0.4077 Validation F1(macro): 0.75%\n",
      "Epoch [172/200](0.18s) Train Loss: 0.7185 Train F1(macro): 0.84% Validation Loss: 0.4061 Validation F1(macro): 0.75%\n",
      "Epoch [173/200](0.16s) Train Loss: 0.7187 Train F1(macro): 0.84% Validation Loss: 0.4074 Validation F1(macro): 0.75%\n",
      "Epoch [174/200](0.18s) Train Loss: 0.7182 Train F1(macro): 0.84% Validation Loss: 0.4073 Validation F1(macro): 0.75%\n",
      "Epoch [175/200](0.17s) Train Loss: 0.7160 Train F1(macro): 0.84% Validation Loss: 0.4072 Validation F1(macro): 0.75%\n",
      "Epoch [176/200](0.17s) Train Loss: 0.7168 Train F1(macro): 0.84% Validation Loss: 0.4079 Validation F1(macro): 0.75%\n",
      "Epoch [177/200](0.18s) Train Loss: 0.7173 Train F1(macro): 0.84% Validation Loss: 0.4058 Validation F1(macro): 0.75%\n",
      "Epoch [178/200](0.17s) Train Loss: 0.7166 Train F1(macro): 0.84% Validation Loss: 0.4066 Validation F1(macro): 0.75%\n",
      "Epoch [179/200](0.17s) Train Loss: 0.7144 Train F1(macro): 0.84% Validation Loss: 0.4053 Validation F1(macro): 0.75%\n",
      "Epoch [180/200](0.17s) Train Loss: 0.7177 Train F1(macro): 0.84% Validation Loss: 0.4065 Validation F1(macro): 0.75%\n",
      "Epoch [181/200](0.16s) Train Loss: 0.7147 Train F1(macro): 0.84% Validation Loss: 0.4064 Validation F1(macro): 0.75%\n",
      "Epoch [182/200](0.17s) Train Loss: 0.7159 Train F1(macro): 0.84% Validation Loss: 0.4048 Validation F1(macro): 0.75%\n",
      "Epoch [183/200](0.16s) Train Loss: 0.7135 Train F1(macro): 0.84% Validation Loss: 0.4067 Validation F1(macro): 0.75%\n",
      "Epoch [184/200](0.17s) Train Loss: 0.7127 Train F1(macro): 0.84% Validation Loss: 0.4044 Validation F1(macro): 0.75%\n",
      "Epoch [185/200](0.15s) Train Loss: 0.7115 Train F1(macro): 0.84% Validation Loss: 0.4059 Validation F1(macro): 0.75%\n",
      "Epoch [186/200](0.17s) Train Loss: 0.7130 Train F1(macro): 0.84% Validation Loss: 0.4032 Validation F1(macro): 0.75%\n",
      "Epoch [187/200](0.16s) Train Loss: 0.7118 Train F1(macro): 0.84% Validation Loss: 0.4054 Validation F1(macro): 0.75%\n",
      "Epoch [188/200](0.17s) Train Loss: 0.7135 Train F1(macro): 0.84% Validation Loss: 0.4057 Validation F1(macro): 0.75%\n",
      "Epoch [189/200](0.15s) Train Loss: 0.7141 Train F1(macro): 0.84% Validation Loss: 0.4028 Validation F1(macro): 0.75%\n",
      "Epoch [190/200](0.15s) Train Loss: 0.7093 Train F1(macro): 0.84% Validation Loss: 0.4057 Validation F1(macro): 0.75%\n",
      "Epoch [191/200](0.15s) Train Loss: 0.7109 Train F1(macro): 0.84% Validation Loss: 0.4034 Validation F1(macro): 0.75%\n",
      "Epoch [192/200](0.15s) Train Loss: 0.7106 Train F1(macro): 0.84% Validation Loss: 0.4045 Validation F1(macro): 0.75%\n",
      "Epoch [193/200](0.17s) Train Loss: 0.7108 Train F1(macro): 0.84% Validation Loss: 0.4046 Validation F1(macro): 0.75%\n",
      "Epoch [194/200](0.18s) Train Loss: 0.7079 Train F1(macro): 0.84% Validation Loss: 0.4034 Validation F1(macro): 0.75%\n",
      "Epoch [195/200](0.15s) Train Loss: 0.7096 Train F1(macro): 0.84% Validation Loss: 0.4039 Validation F1(macro): 0.75%\n",
      "Epoch [196/200](0.17s) Train Loss: 0.7094 Train F1(macro): 0.84% Validation Loss: 0.4045 Validation F1(macro): 0.75%\n",
      "Epoch [197/200](0.18s) Train Loss: 0.7101 Train F1(macro): 0.84% Validation Loss: 0.4025 Validation F1(macro): 0.75%\n",
      "Epoch [198/200](0.18s) Train Loss: 0.7099 Train F1(macro): 0.84% Validation Loss: 0.4031 Validation F1(macro): 0.75%\n",
      "Epoch [199/200](0.17s) Train Loss: 0.7095 Train F1(macro): 0.84% Validation Loss: 0.4030 Validation F1(macro): 0.75%\n",
      "Epoch [200/200](0.2s) Train Loss: 0.7091 Train F1(macro): 0.84% Validation Loss: 0.4039 Validation F1(macro): 0.75%\n"
     ]
    },
    {
     "data": {
      "image/png": "[encoded data removed]",
      "text/plain": [
       "<Figure size 1200x600 with 2 Axes>"
      ]
     },
     "metadata": {},
     "output_type": "display_data"
    },
    {
     "name": "stderr",
     "output_type": "stream",
     "text": [
      "wandb: Network error (ConnectionError), entering retry loop.\n"
     ]
    }
   ],
   "source": [
    "# Define the model's architecture hyper-parameters\n",
    "num_features = len(X_train[0]['node_feat'][0])\n",
    "activation = nn.LeakyReLU()\n",
    "pooling = MeanPool()\n",
    "aggregation = MeanAggregation()\n",
    "dropout = 0.001\n",
    "\n",
    "# Define the model's architecture\n",
    "architecture = [\n",
    "    [GraphAttentionConv, {'in_features': num_features, 'out_features': 64}],\n",
    "    [GraphAttentionConv, {'in_features': 64, 'out_features': 32}],\n",
    "]\n",
    "\n",
    "# Define the model\n",
    "model = GNN(architecture, pooling, dropout=dropout)\n",
    "\n",
    "# Increase the precision of the model\n",
    "model = model.double()\n",
    "\n",
    "# Define traininglhyperparameters\n",
    "lr = 1e-2\n",
    "wd = 1e-3\n",
    "epochs = 200\n",
    "pos_weight = 0.7\n",
    "criterion = BCEWithLogitsLoss(pos_weight=torch.tensor(pos_weight))\n",
    "# optimizer = SGD(model.parameters(), lr=lr)\n",
    "optimizer = Adam(model.parameters(), lr=lr, weight_decay=wd)\n",
    "\n",
    "# Log the setup of the experiment\n",
    "if LOGEXP:\n",
    "    # track hyperparameters and run metadata\n",
    "    config = ( \n",
    "        {\n",
    "            \"learning_rate\": lr,\n",
    "            \"architecture\": \"Graph Attention Convolutional Network - 2 layers\",\n",
    "            \"dataset\": \"MUTAG\",\n",
    "            \"epochs\": epochs,\n",
    "            \"batch_size\": batch_size,\n",
    "            \"optimizer\": str(optimizer),\n",
    "            \"shuffle\": shuffle,\n",
    "            \"activation\": str(activation),\n",
    "            \"pooling\": str(pooling),\n",
    "            \"aggregation\": str(aggregation),\n",
    "            \"dropout\": dropout,\n",
    "            \"weight_decay\": wd,\n",
    "            \"pos_weight\": pos_weight,\n",
    "        }\n",
    "    )\n",
    "else:\n",
    "    config = None\n",
    "\n",
    "# Train the model\n",
    "train_losses, val_losses, train_accs, val_accs = train_and_evaluate(model, train_loader, val_loader, criterion, optimizer, epochs, config)\n",
    "\n",
    "# Visualise the results\n",
    "fig = plot_losses_and_f1s(train_losses, val_losses, train_accs, val_accs)"
   ]
  },
  {
   "cell_type": "code",
   "execution_count": null,
   "metadata": {},
   "outputs": [],
   "source": []
  }
 ],
 "metadata": {
  "kernelspec": {
   "display_name": "cs502",
   "language": "python",
   "name": "python3"
  },
  "language_info": {
   "codemirror_mode": {
    "name": "ipython",
    "version": 3
   },
   "file_extension": ".py",
   "mimetype": "text/x-python",
   "name": "python",
   "nbconvert_exporter": "python",
   "pygments_lexer": "ipython3",
   "version": "3.9.18"
  }
 },
 "nbformat": 4,
 "nbformat_minor": 2
}
